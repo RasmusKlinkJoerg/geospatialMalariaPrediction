{
  "cells": [
    {
      "cell_type": "markdown",
      "metadata": {
        "id": "kLDXAIFvcJdX"
      },
      "source": [
        "### Setup"
      ]
    },
    {
      "cell_type": "code",
      "execution_count": 1,
      "metadata": {
        "id": "2YfBoj8UI-S3"
      },
      "outputs": [],
      "source": [
        "import tensorflow\n",
        "from tensorflow import keras\n",
        "from keras.datasets import mnist\n",
        "from keras import backend as K\n",
        "from matplotlib import pyplot as plt\n",
        "from keras.models import Sequential, Model\n",
        "from keras.layers import Dense, Flatten, Activation, BatchNormalization, Conv2D, MaxPooling2D, Input, Dropout, GlobalAveragePooling2D,concatenate\n",
        "from PIL import Image\n",
        "import numpy as np\n",
        "import PIL.ImageOps \n",
        "import csv\n",
        "import zipfile\n",
        "import os\n",
        "import cv2\n",
        "from natsort import natsorted\n",
        "from keras.applications.vgg16 import VGG16, preprocess_input\n",
        "from keras.preprocessing.image import ImageDataGenerator\n",
        "import pandas as pd\n"
      ]
    },
    {
      "cell_type": "code",
      "execution_count": 2,
      "metadata": {
        "colab": {
          "base_uri": "https://localhost:8080/"
        },
        "id": "71Y2JuGZfUuP",
        "outputId": "79999c47-56e1-42f8-ab65-39af9cfb2bf1"
      },
      "outputs": [
        {
          "output_type": "stream",
          "name": "stdout",
          "text": [
            "Drive already mounted at /content/drive; to attempt to forcibly remount, call drive.mount(\"/content/drive\", force_remount=True).\n"
          ]
        }
      ],
      "source": [
        "from google.colab import drive\n",
        "drive.mount('/content/drive')"
      ]
    },
    {
      "cell_type": "markdown",
      "source": [
        "# Preprocessing"
      ],
      "metadata": {
        "id": "f2Negd6U-YYH"
      }
    },
    {
      "cell_type": "markdown",
      "metadata": {
        "id": "gQmz52KwUEkq"
      },
      "source": [
        "Retriving the label data"
      ]
    },
    {
      "cell_type": "code",
      "execution_count": null,
      "metadata": {
        "id": "VKM_CZ7Nb-3f"
      },
      "outputs": [],
      "source": [
        "label_dir = '/content/drive/MyDrive/malaria_project/long_lat_year_2008_to_end.csv'\n",
        "y_list = []\n",
        "with open(label_dir) as csv_file:\n",
        "  csv_reader = csv.reader(csv_file, delimiter=',')\n",
        "  for i,line in enumerate(csv_reader):\n",
        "    if i == 0:\n",
        "      continue\n",
        "    y_list.append(float(line[4]))\n",
        "y_labels = np.array(y_list)"
      ]
    },
    {
      "cell_type": "markdown",
      "metadata": {
        "id": "gskD-nqzw91Y"
      },
      "source": [
        "Now we can retrieve the satellite image data. "
      ]
    },
    {
      "cell_type": "code",
      "source": [
        "dir_path = \"/content/drive/MyDrive/satellite_data\""
      ],
      "metadata": {
        "id": "efms5EMM4DvI"
      },
      "execution_count": null,
      "outputs": []
    },
    {
      "cell_type": "code",
      "execution_count": null,
      "metadata": {
        "id": "f4cOwHI8oyZS",
        "colab": {
          "base_uri": "https://localhost:8080/",
          "height": 240
        },
        "outputId": "833a5678-8377-46ac-9385-a8e413c4cc06"
      },
      "outputs": [
        {
          "output_type": "error",
          "ename": "KeyboardInterrupt",
          "evalue": "ignored",
          "traceback": [
            "\u001b[0;31m---------------------------------------------------------------------------\u001b[0m",
            "\u001b[0;31mKeyboardInterrupt\u001b[0m                         Traceback (most recent call last)",
            "\u001b[0;32m<ipython-input-5-cdc222d39bc9>\u001b[0m in \u001b[0;36m<module>\u001b[0;34m\u001b[0m\n\u001b[1;32m      3\u001b[0m \u001b[0;34m\u001b[0m\u001b[0m\n\u001b[1;32m      4\u001b[0m \u001b[0mdir_path\u001b[0m \u001b[0;34m=\u001b[0m \u001b[0;34m\"/content/drive/MyDrive/satellite_data\"\u001b[0m\u001b[0;34m\u001b[0m\u001b[0;34m\u001b[0m\u001b[0m\n\u001b[0;32m----> 5\u001b[0;31m \u001b[0;32mfor\u001b[0m \u001b[0mi\u001b[0m\u001b[0;34m,\u001b[0m\u001b[0mimage\u001b[0m \u001b[0;32min\u001b[0m \u001b[0menumerate\u001b[0m\u001b[0;34m(\u001b[0m\u001b[0mos\u001b[0m\u001b[0;34m.\u001b[0m\u001b[0mlistdir\u001b[0m\u001b[0;34m(\u001b[0m\u001b[0mdir_path\u001b[0m\u001b[0;34m)\u001b[0m\u001b[0;34m)\u001b[0m\u001b[0;34m:\u001b[0m\u001b[0;34m\u001b[0m\u001b[0;34m\u001b[0m\u001b[0m\n\u001b[0m\u001b[1;32m      6\u001b[0m     \u001b[0;32mif\u001b[0m \u001b[0mimage\u001b[0m \u001b[0;34m==\u001b[0m \u001b[0;34m\".DS_Store\"\u001b[0m \u001b[0;32mor\u001b[0m \u001b[0mimage\u001b[0m \u001b[0;34m==\u001b[0m\u001b[0;34m\".ipynb_checkpoints\"\u001b[0m\u001b[0;34m:\u001b[0m\u001b[0;34m\u001b[0m\u001b[0;34m\u001b[0m\u001b[0m\n\u001b[1;32m      7\u001b[0m         \u001b[0;32mcontinue\u001b[0m\u001b[0;34m\u001b[0m\u001b[0;34m\u001b[0m\u001b[0m\n",
            "\u001b[0;31mKeyboardInterrupt\u001b[0m: "
          ]
        }
      ],
      "source": [
        "x_data_map = {}\n",
        "img_names = []\n",
        "\n",
        "\n",
        "for i,image in enumerate(os.listdir(dir_path)):\n",
        "    if image == \".DS_Store\" or image ==\".ipynb_checkpoints\":\n",
        "        continue\n",
        "    img_names.append(image)\n",
        "    img = Image.open(dir_path+\"/\"+image)\n",
        "\n",
        "    #crop image\n",
        "    box = (0, 0, 1024, 1024)\n",
        "    img = img.crop(box)\n",
        "\n",
        "    #downscale image to lower resolution #TODO maybe make data generator instead\n",
        "    img = img.resize((256,256),Image.ANTIALIAS)\n",
        "\n",
        "    img2np = np.array(img)\n",
        "    img2np = img2np[:,:,:3] #removing the alpha dimension\n",
        "    #img2np = img2np.astype('float32')\n",
        "    #img2np /= 255\n",
        "    img2np = preprocess_input(img2np)\n",
        "    img2np = img2np.astype('float32')\n",
        "    x_data_map[image] = img2np"
      ]
    },
    {
      "cell_type": "markdown",
      "source": [
        "Match the correct data point in $x$ with the correct label in $y$ by sorting by the image names."
      ],
      "metadata": {
        "id": "UbLkVfvS_EB3"
      }
    },
    {
      "cell_type": "code",
      "execution_count": null,
      "metadata": {
        "colab": {
          "base_uri": "https://localhost:8080/",
          "height": 343
        },
        "id": "bONdhrYwtASN",
        "outputId": "c90ae190-1bb5-4ef4-ae98-637aa6401cb9"
      },
      "outputs": [
        {
          "output_type": "stream",
          "name": "stderr",
          "text": [
            "WARNING:matplotlib.image:Clipping input data to the valid range for imshow with RGB data ([0..1] for floats or [0..255] for integers).\n"
          ]
        },
        {
          "output_type": "stream",
          "name": "stdout",
          "text": [
            "0.02\n",
            "Shape: (2000, 256, 256, 3)\n"
          ]
        },
        {
          "output_type": "display_data",
          "data": {
            "text/plain": [
              "<Figure size 432x288 with 1 Axes>"
            ],
            "image/png": "[encoded data removed]"
          },
          "metadata": {
            "needs_background": "light"
          }
        }
      ],
      "source": [
        "sorted_keys = natsorted(x_data_map.keys())\n",
        "\n",
        "x_data = []\n",
        "for key in sorted_keys:\n",
        "    x_data.append(x_data_map[key])\n",
        "\n",
        "x_data = np.array(x_data)\n",
        "print(y_labels[0])\n",
        "plt.imshow(x_data[0])\n",
        "\n",
        "print(\"Shape:\",np.array(x_data).shape)"
      ]
    },
    {
      "cell_type": "code",
      "source": [
        "minPixel = 0\n",
        "maxPixel = 0\n",
        "for img in x_data:\n",
        "  if maxPixel < img.max():\n",
        "    maxPixel = img.max()\n",
        "  if minPixel > img.min():\n",
        "    minPixel = img.min()\n",
        "print(minPixel, maxPixel)\n"
      ],
      "metadata": {
        "colab": {
          "base_uri": "https://localhost:8080/"
        },
        "id": "t-2Jk2daFw2Q",
        "outputId": "df324d7e-3068-49e2-a4b1-f3a0b0fd3026"
      },
      "execution_count": null,
      "outputs": [
        {
          "output_type": "stream",
          "name": "stdout",
          "text": [
            "-123.68 151.061\n"
          ]
        }
      ]
    },
    {
      "cell_type": "code",
      "source": [
        "newMax = maxPixel + abs(minPixel)\n",
        "for index in x_data_map_copy.keys():\n",
        "  img = x_data_map[index]\n",
        "  img = np.array(img)\n",
        "  img = img + abs(minPixel)\n",
        "  img = img/newMax\n",
        "  x_data_map[index] = img"
      ],
      "metadata": {
        "id": "tTkv8KHvI5An"
      },
      "execution_count": null,
      "outputs": []
    },
    {
      "cell_type": "markdown",
      "metadata": {
        "id": "elU-Xl9qy60D"
      },
      "source": [
        "Sanity check that the pixels intensitity values are within [0,1]"
      ]
    },
    {
      "cell_type": "code",
      "source": [
        "img = Image.open(dir_path+\"/\"+'0_42.3478, 2.213.png')\n",
        "plt.imshow(img)"
      ],
      "metadata": {
        "colab": {
          "base_uri": "https://localhost:8080/",
          "height": 287
        },
        "id": "RnP_Fgb8Nnw9",
        "outputId": "76f44bf0-8f9b-42af-b2ef-dfb260e66598"
      },
      "execution_count": null,
      "outputs": [
        {
          "output_type": "execute_result",
          "data": {
            "text/plain": [
              "<matplotlib.image.AxesImage at 0x7f3e696f7730>"
            ]
          },
          "metadata": {},
          "execution_count": 53
        },
        {
          "output_type": "display_data",
          "data": {
            "text/plain": [
              "<Figure size 432x288 with 1 Axes>"
            ],
            "image/png": "[encoded data removed]"
          },
          "metadata": {
            "needs_background": "light"
          }
        }
      ]
    },
    {
      "cell_type": "code",
      "execution_count": null,
      "metadata": {
        "colab": {
          "base_uri": "https://localhost:8080/"
        },
        "id": "PLEq6uQFur3Z",
        "outputId": "f0643eee-86aa-417a-9afb-6c2b5e0facb7"
      },
      "outputs": [
        {
          "output_type": "stream",
          "name": "stdout",
          "text": [
            "52.060997\n",
            "-80.68\n"
          ]
        }
      ],
      "source": [
        "print(img2np.max())\n",
        "print(img2np.min())"
      ]
    },
    {
      "cell_type": "markdown",
      "source": [
        "Splitting the data into training and test data. We use the commonly 80/20 split."
      ],
      "metadata": {
        "id": "PVBfSeba_SvY"
      }
    },
    {
      "cell_type": "code",
      "execution_count": null,
      "metadata": {
        "colab": {
          "base_uri": "https://localhost:8080/"
        },
        "id": "9Dc2S796za9y",
        "outputId": "73566218-7c4c-44d7-c48d-bf1d36b7ec3f"
      },
      "outputs": [
        {
          "output_type": "stream",
          "name": "stdout",
          "text": [
            "(1600, 256, 256, 3) (400, 256, 256, 3)\n",
            "1600 400\n"
          ]
        }
      ],
      "source": [
        "dataset_size = x_data.shape[0]\n",
        "x_train = x_data[:int(dataset_size*0.8)]\n",
        "x_test = x_data[int(dataset_size*0.8):]\n",
        "print(x_train.shape, x_test.shape)\n",
        "\n",
        "dataset_size = x_data.shape[0]\n",
        "y_train = y_labels[:int(dataset_size*0.8)]\n",
        "y_test = y_labels[int(dataset_size*0.8):2000] #TODO: remove this when the entire dataset is used\n",
        "print(len(y_train), len(y_test))"
      ]
    },
    {
      "cell_type": "markdown",
      "metadata": {
        "id": "e5ux0IpNc6jq"
      },
      "source": [
        "Variables"
      ]
    },
    {
      "cell_type": "code",
      "execution_count": null,
      "metadata": {
        "colab": {
          "base_uri": "https://localhost:8080/"
        },
        "id": "irY5ZetCc8XH",
        "outputId": "d71b38e3-a497-4194-e61c-ec643628a9fe"
      },
      "outputs": [
        {
          "output_type": "stream",
          "name": "stdout",
          "text": [
            "256 256\n"
          ]
        }
      ],
      "source": [
        "# img_rows, img_cols= 1024,1024\n",
        "width = x_data.shape[1]\n",
        "height = x_data.shape[2]\n",
        "img_rows, img_cols= height, width\n",
        "print(img_rows, img_cols)\n",
        "batch_size = 25\n",
        "epochs = 100\n",
        "input_shape = (img_rows, img_cols, 3)"
      ]
    },
    {
      "cell_type": "markdown",
      "metadata": {
        "id": "yytdFOQEfCLL"
      },
      "source": [
        "### Neural Network Model"
      ]
    },
    {
      "cell_type": "markdown",
      "metadata": {
        "id": "v9I6BM4LfDVp"
      },
      "source": [
        "Now we can define a simple NN model. We use the Sequential which simply is a linear stack of layers."
      ]
    },
    {
      "cell_type": "code",
      "execution_count": null,
      "metadata": {
        "colab": {
          "base_uri": "https://localhost:8080/"
        },
        "id": "ok9iSB9pfUJZ",
        "outputId": "ff2e281b-3b8f-4af5-e17c-294f9eb8f6d4"
      },
      "outputs": [
        {
          "output_type": "stream",
          "name": "stdout",
          "text": [
            "Model: \"sequential_2\"\n",
            "_________________________________________________________________\n",
            " Layer (type)                Output Shape              Param #   \n",
            "=================================================================\n",
            " flatten_1 (Flatten)         (None, 196608)            0         \n",
            "                                                                 \n",
            " dense_4 (Dense)             (None, 32)                6291488   \n",
            "                                                                 \n",
            " dense_5 (Dense)             (None, 32)                1056      \n",
            "                                                                 \n",
            " dense_6 (Dense)             (None, 32)                1056      \n",
            "                                                                 \n",
            " dense_7 (Dense)             (None, 1)                 33        \n",
            "                                                                 \n",
            "=================================================================\n",
            "Total params: 6,293,633\n",
            "Trainable params: 6,293,633\n",
            "Non-trainable params: 0\n",
            "_________________________________________________________________\n"
          ]
        }
      ],
      "source": [
        "#inspiration from https://colab.research.google.com/github/tensorflow/docs/blob/master/site/en/tutorials/keras/regression.ipynb#scrollTo=rsf9rD8I17Wq\n",
        "\n",
        "tensorflow.random.set_seed(0) # make weight initialization deterministic\n",
        "\n",
        "# Model\n",
        "model = Sequential()\n",
        "model.add(Flatten(input_shape=input_shape)) # input_shape is (28, 28, 1)\n",
        "model.add(Dense(32,activation='relu')) \n",
        "model.add(Dense(32,activation='relu')) \n",
        "model.add(Dense(32,activation='relu')) \n",
        "\n",
        "# model.add(Dense(64,activation='relu')) \n",
        "model.add(Dense(1, activation='linear')) \n",
        "\n",
        "model.summary()"
      ]
    },
    {
      "cell_type": "markdown",
      "metadata": {
        "id": "AEK5sYp3fgfG"
      },
      "source": [
        "Compiling the model"
      ]
    },
    {
      "cell_type": "code",
      "execution_count": null,
      "metadata": {
        "id": "eIsu1jCGfiUk"
      },
      "outputs": [],
      "source": [
        "# model.compile(optimizer='sgd',loss='mean_absolute_error',metrics=['accuracy'])\n",
        "model.compile(optimizer=tensorflow.keras.optimizers.Adam(0.00001), loss='mean_absolute_error')"
      ]
    },
    {
      "cell_type": "markdown",
      "metadata": {
        "id": "8u24-ZqagAXS"
      },
      "source": [
        "Fitting the model"
      ]
    },
    {
      "cell_type": "code",
      "execution_count": null,
      "metadata": {
        "colab": {
          "base_uri": "https://localhost:8080/"
        },
        "id": "hUqRG-qCgEEQ",
        "outputId": "6a3ec7d1-6703-486d-e206-4443c7849f5f"
      },
      "outputs": [
        {
          "output_type": "stream",
          "name": "stdout",
          "text": [
            "Epoch 1/100\n",
            "52/52 [==============================] - 3s 33ms/step - loss: 0.1284 - val_loss: 0.0959\n",
            "Epoch 2/100\n",
            "52/52 [==============================] - 1s 24ms/step - loss: 0.1042 - val_loss: 0.1065\n",
            "Epoch 3/100\n",
            "52/52 [==============================] - 1s 22ms/step - loss: 0.0948 - val_loss: 0.0795\n",
            "Epoch 4/100\n",
            "52/52 [==============================] - 1s 18ms/step - loss: 0.0894 - val_loss: 0.0777\n",
            "Epoch 5/100\n",
            "52/52 [==============================] - 1s 17ms/step - loss: 0.0893 - val_loss: 0.1173\n",
            "Epoch 6/100\n",
            "52/52 [==============================] - 1s 20ms/step - loss: 0.0889 - val_loss: 0.0936\n",
            "Epoch 7/100\n",
            "52/52 [==============================] - 1s 18ms/step - loss: 0.0860 - val_loss: 0.0762\n",
            "Epoch 8/100\n",
            "52/52 [==============================] - 1s 17ms/step - loss: 0.0857 - val_loss: 0.0755\n",
            "Epoch 9/100\n",
            "52/52 [==============================] - 1s 18ms/step - loss: 0.0883 - val_loss: 0.0751\n",
            "Epoch 10/100\n",
            "52/52 [==============================] - 1s 17ms/step - loss: 0.1013 - val_loss: 0.1330\n",
            "Epoch 11/100\n",
            "52/52 [==============================] - 1s 20ms/step - loss: 0.0990 - val_loss: 0.0799\n",
            "Epoch 12/100\n",
            "52/52 [==============================] - 1s 17ms/step - loss: 0.0871 - val_loss: 0.0837\n",
            "Epoch 13/100\n",
            "52/52 [==============================] - 1s 17ms/step - loss: 0.0981 - val_loss: 0.0982\n",
            "Epoch 14/100\n",
            "52/52 [==============================] - 1s 18ms/step - loss: 0.1433 - val_loss: 0.0785\n",
            "Epoch 15/100\n",
            "52/52 [==============================] - 1s 22ms/step - loss: 0.0866 - val_loss: 0.1135\n",
            "Epoch 16/100\n",
            "52/52 [==============================] - 1s 24ms/step - loss: 0.0922 - val_loss: 0.0806\n",
            "Epoch 17/100\n",
            "52/52 [==============================] - 1s 25ms/step - loss: 0.0874 - val_loss: 0.0798\n",
            "Epoch 18/100\n",
            "52/52 [==============================] - 1s 18ms/step - loss: 0.0880 - val_loss: 0.0871\n",
            "Epoch 19/100\n",
            "52/52 [==============================] - 1s 21ms/step - loss: 0.0952 - val_loss: 0.0978\n",
            "Epoch 20/100\n",
            "52/52 [==============================] - 1s 17ms/step - loss: 0.0869 - val_loss: 0.0784\n",
            "Epoch 21/100\n",
            "52/52 [==============================] - 1s 17ms/step - loss: 0.0962 - val_loss: 0.0769\n",
            "Epoch 22/100\n",
            "52/52 [==============================] - 1s 17ms/step - loss: 0.0875 - val_loss: 0.0995\n",
            "Epoch 23/100\n",
            "52/52 [==============================] - 1s 16ms/step - loss: 0.0956 - val_loss: 0.0776\n",
            "Epoch 24/100\n",
            "52/52 [==============================] - 1s 18ms/step - loss: 0.0888 - val_loss: 0.0933\n",
            "Epoch 25/100\n",
            "52/52 [==============================] - 1s 17ms/step - loss: 0.0946 - val_loss: 0.0784\n",
            "Epoch 26/100\n",
            "52/52 [==============================] - 1s 18ms/step - loss: 0.0888 - val_loss: 0.0771\n",
            "Epoch 27/100\n",
            "52/52 [==============================] - 1s 17ms/step - loss: 0.0833 - val_loss: 0.0806\n",
            "Epoch 28/100\n",
            "52/52 [==============================] - 1s 17ms/step - loss: 0.0863 - val_loss: 0.0905\n",
            "Epoch 29/100\n",
            "52/52 [==============================] - 1s 25ms/step - loss: 0.0837 - val_loss: 0.0769\n",
            "Epoch 30/100\n",
            "52/52 [==============================] - 1s 21ms/step - loss: 0.0840 - val_loss: 0.0857\n",
            "Epoch 31/100\n",
            "52/52 [==============================] - 1s 24ms/step - loss: 0.0829 - val_loss: 0.0944\n",
            "Epoch 32/100\n",
            "52/52 [==============================] - 1s 17ms/step - loss: 0.0838 - val_loss: 0.0833\n",
            "Epoch 33/100\n",
            "52/52 [==============================] - 1s 21ms/step - loss: 0.0798 - val_loss: 0.0772\n",
            "Epoch 34/100\n",
            "52/52 [==============================] - 1s 17ms/step - loss: 0.0784 - val_loss: 0.0856\n",
            "Epoch 35/100\n",
            "52/52 [==============================] - 1s 20ms/step - loss: 0.0847 - val_loss: 0.0828\n",
            "Epoch 36/100\n",
            "52/52 [==============================] - 1s 17ms/step - loss: 0.0854 - val_loss: 0.0848\n",
            "Epoch 37/100\n",
            "52/52 [==============================] - 1s 20ms/step - loss: 0.0798 - val_loss: 0.0942\n",
            "Epoch 38/100\n",
            "52/52 [==============================] - 1s 17ms/step - loss: 0.0832 - val_loss: 0.0839\n",
            "Epoch 39/100\n",
            "52/52 [==============================] - 1s 17ms/step - loss: 0.0778 - val_loss: 0.1089\n",
            "Epoch 40/100\n",
            "52/52 [==============================] - 1s 17ms/step - loss: 0.0911 - val_loss: 0.1009\n",
            "Epoch 41/100\n",
            "52/52 [==============================] - 1s 17ms/step - loss: 0.0844 - val_loss: 0.0838\n",
            "Epoch 42/100\n",
            "52/52 [==============================] - 1s 19ms/step - loss: 0.0813 - val_loss: 0.0903\n",
            "Epoch 43/100\n",
            "52/52 [==============================] - 1s 24ms/step - loss: 0.0833 - val_loss: 0.0825\n",
            "Epoch 44/100\n",
            "52/52 [==============================] - 1s 23ms/step - loss: 0.0791 - val_loss: 0.0803\n",
            "Epoch 45/100\n",
            "52/52 [==============================] - 1s 23ms/step - loss: 0.0793 - val_loss: 0.0817\n",
            "Epoch 46/100\n",
            "52/52 [==============================] - 1s 17ms/step - loss: 0.0881 - val_loss: 0.0818\n",
            "Epoch 47/100\n",
            "52/52 [==============================] - 1s 17ms/step - loss: 0.0867 - val_loss: 0.0825\n",
            "Epoch 48/100\n",
            "52/52 [==============================] - 1s 20ms/step - loss: 0.0826 - val_loss: 0.0812\n",
            "Epoch 49/100\n",
            "52/52 [==============================] - 1s 17ms/step - loss: 0.0821 - val_loss: 0.0773\n",
            "Epoch 50/100\n",
            "52/52 [==============================] - 1s 17ms/step - loss: 0.0780 - val_loss: 0.0790\n",
            "Epoch 51/100\n",
            "52/52 [==============================] - 1s 21ms/step - loss: 0.0801 - val_loss: 0.0836\n",
            "Epoch 52/100\n",
            "52/52 [==============================] - 1s 18ms/step - loss: 0.0772 - val_loss: 0.1326\n",
            "Epoch 53/100\n",
            "52/52 [==============================] - 1s 17ms/step - loss: 0.0893 - val_loss: 0.0791\n",
            "Epoch 54/100\n",
            "52/52 [==============================] - 1s 17ms/step - loss: 0.0899 - val_loss: 0.0870\n",
            "Epoch 55/100\n",
            "52/52 [==============================] - 1s 20ms/step - loss: 0.0816 - val_loss: 0.0946\n",
            "Epoch 56/100\n",
            "52/52 [==============================] - 1s 25ms/step - loss: 0.0842 - val_loss: 0.0843\n",
            "Epoch 57/100\n",
            "52/52 [==============================] - 1s 23ms/step - loss: 0.0775 - val_loss: 0.1021\n",
            "Epoch 58/100\n",
            "52/52 [==============================] - 1s 22ms/step - loss: 0.0802 - val_loss: 0.0925\n",
            "Epoch 59/100\n",
            "52/52 [==============================] - 1s 18ms/step - loss: 0.0925 - val_loss: 0.1356\n",
            "Epoch 60/100\n",
            "52/52 [==============================] - 1s 16ms/step - loss: 0.1097 - val_loss: 0.0800\n",
            "Epoch 61/100\n",
            "52/52 [==============================] - 1s 17ms/step - loss: 0.0851 - val_loss: 0.0942\n",
            "Epoch 62/100\n",
            "52/52 [==============================] - 1s 20ms/step - loss: 0.0772 - val_loss: 0.0806\n",
            "Epoch 63/100\n",
            "52/52 [==============================] - 1s 21ms/step - loss: 0.0857 - val_loss: 0.1240\n",
            "Epoch 64/100\n",
            "52/52 [==============================] - 1s 18ms/step - loss: 0.0913 - val_loss: 0.1122\n",
            "Epoch 65/100\n",
            "52/52 [==============================] - 1s 17ms/step - loss: 0.0890 - val_loss: 0.0763\n",
            "Epoch 66/100\n",
            "52/52 [==============================] - 1s 17ms/step - loss: 0.0791 - val_loss: 0.0853\n",
            "Epoch 67/100\n",
            "52/52 [==============================] - 1s 17ms/step - loss: 0.0779 - val_loss: 0.0782\n",
            "Epoch 68/100\n",
            "52/52 [==============================] - 1s 17ms/step - loss: 0.0793 - val_loss: 0.0909\n",
            "Epoch 69/100\n",
            "52/52 [==============================] - 1s 18ms/step - loss: 0.0903 - val_loss: 0.1146\n",
            "Epoch 70/100\n",
            "52/52 [==============================] - 1s 25ms/step - loss: 0.0844 - val_loss: 0.0831\n",
            "Epoch 71/100\n",
            "52/52 [==============================] - 1s 23ms/step - loss: 0.0753 - val_loss: 0.0800\n",
            "Epoch 72/100\n",
            "52/52 [==============================] - 1s 23ms/step - loss: 0.0805 - val_loss: 0.0801\n",
            "Epoch 73/100\n",
            "52/52 [==============================] - 1s 17ms/step - loss: 0.0772 - val_loss: 0.0807\n",
            "Epoch 74/100\n",
            "52/52 [==============================] - 1s 20ms/step - loss: 0.0823 - val_loss: 0.0761\n",
            "Epoch 75/100\n",
            "52/52 [==============================] - 1s 17ms/step - loss: 0.0775 - val_loss: 0.0816\n",
            "Epoch 76/100\n",
            "52/52 [==============================] - 1s 17ms/step - loss: 0.0793 - val_loss: 0.1003\n",
            "Epoch 77/100\n",
            "52/52 [==============================] - 1s 20ms/step - loss: 0.0771 - val_loss: 0.0786\n",
            "Epoch 78/100\n",
            "52/52 [==============================] - 1s 17ms/step - loss: 0.0791 - val_loss: 0.0772\n",
            "Epoch 79/100\n",
            "52/52 [==============================] - 1s 17ms/step - loss: 0.0746 - val_loss: 0.0834\n",
            "Epoch 80/100\n",
            "52/52 [==============================] - 1s 17ms/step - loss: 0.0738 - val_loss: 0.0790\n",
            "Epoch 81/100\n",
            "52/52 [==============================] - 1s 18ms/step - loss: 0.0787 - val_loss: 0.1189\n",
            "Epoch 82/100\n",
            "52/52 [==============================] - 1s 17ms/step - loss: 0.0853 - val_loss: 0.0772\n",
            "Epoch 83/100\n",
            "52/52 [==============================] - 1s 19ms/step - loss: 0.0790 - val_loss: 0.0779\n",
            "Epoch 84/100\n",
            "52/52 [==============================] - 1s 21ms/step - loss: 0.0753 - val_loss: 0.0931\n",
            "Epoch 85/100\n",
            "52/52 [==============================] - 1s 21ms/step - loss: 0.0824 - val_loss: 0.1104\n",
            "Epoch 86/100\n",
            "52/52 [==============================] - 1s 20ms/step - loss: 0.0823 - val_loss: 0.0773\n",
            "Epoch 87/100\n",
            "52/52 [==============================] - 1s 17ms/step - loss: 0.0817 - val_loss: 0.0814\n",
            "Epoch 88/100\n",
            "52/52 [==============================] - 1s 17ms/step - loss: 0.0962 - val_loss: 0.1102\n",
            "Epoch 89/100\n",
            "52/52 [==============================] - 1s 17ms/step - loss: 0.0855 - val_loss: 0.1049\n",
            "Epoch 90/100\n",
            "52/52 [==============================] - 1s 20ms/step - loss: 0.0757 - val_loss: 0.0775\n",
            "Epoch 91/100\n",
            "52/52 [==============================] - 1s 17ms/step - loss: 0.0728 - val_loss: 0.0910\n",
            "Epoch 92/100\n",
            "52/52 [==============================] - 1s 17ms/step - loss: 0.0744 - val_loss: 0.0775\n",
            "Epoch 93/100\n",
            "52/52 [==============================] - 1s 18ms/step - loss: 0.0731 - val_loss: 0.0778\n",
            "Epoch 94/100\n",
            "52/52 [==============================] - 1s 17ms/step - loss: 0.0769 - val_loss: 0.0778\n",
            "Epoch 95/100\n",
            "52/52 [==============================] - 1s 17ms/step - loss: 0.0759 - val_loss: 0.1028\n",
            "Epoch 96/100\n",
            "52/52 [==============================] - 1s 17ms/step - loss: 0.0793 - val_loss: 0.0815\n",
            "Epoch 97/100\n",
            "52/52 [==============================] - 1s 17ms/step - loss: 0.0752 - val_loss: 0.0904\n",
            "Epoch 98/100\n",
            "52/52 [==============================] - 1s 21ms/step - loss: 0.0781 - val_loss: 0.0811\n",
            "Epoch 99/100\n",
            "52/52 [==============================] - 1s 21ms/step - loss: 0.0789 - val_loss: 0.0954\n",
            "Epoch 100/100\n",
            "52/52 [==============================] - 1s 23ms/step - loss: 0.0765 - val_loss: 0.1149\n"
          ]
        }
      ],
      "source": [
        "history = model.fit(x_train, y_train,\n",
        "            batch_size=batch_size,\n",
        "            epochs=epochs,\n",
        "            verbose=1,\n",
        "            validation_split=0.2\n",
        "            )"
      ]
    },
    {
      "cell_type": "markdown",
      "metadata": {
        "id": "Qel-YakPgLPg"
      },
      "source": [
        "Checking the performance"
      ]
    },
    {
      "cell_type": "code",
      "execution_count": null,
      "metadata": {
        "colab": {
          "base_uri": "https://localhost:8080/"
        },
        "id": "b-Fh4VIDgOCL",
        "outputId": "db1182ca-ccd4-4bb3-b944-e0a57531b95f"
      },
      "outputs": [
        {
          "output_type": "stream",
          "name": "stdout",
          "text": [
            "Test loss: 0.12356751412153244\n"
          ]
        }
      ],
      "source": [
        "score = model.evaluate(x_test, y_test, verbose=0)\n",
        "print('Test loss:', score)\n",
        "# print('Validation accuracy:', score[1])"
      ]
    },
    {
      "cell_type": "markdown",
      "metadata": {
        "id": "En_P934IgYkB"
      },
      "source": [
        "### Evaluation"
      ]
    },
    {
      "cell_type": "code",
      "execution_count": null,
      "metadata": {
        "colab": {
          "base_uri": "https://localhost:8080/",
          "height": 404
        },
        "id": "aYfQkJH_ga7h",
        "outputId": "b98aaacb-8cbc-4691-b346-7096d853b982"
      },
      "outputs": [
        {
          "output_type": "display_data",
          "data": {
            "text/plain": [
              "<Figure size 1440x432 with 1 Axes>"
            ],
            "image/png": "[encoded data removed]"
          },
          "metadata": {
            "needs_background": "light"
          }
        }
      ],
      "source": [
        "def show_history(history):\n",
        "  plt.figure(figsize=(20,6))\n",
        "\n",
        "  # summarize history for accuracy\n",
        "  # plt.subplot(121)\n",
        "  # plt.plot(history.history['accuracy'])\n",
        "  # plt.plot(history.history['val_accuracy'])\n",
        "  # plt.title('model accuracy')\n",
        "  # plt.ylabel('accuracy')\n",
        "  # plt.xlabel('epoch')\n",
        "  # plt.legend(['train', 'validation'], loc='upper left')\n",
        "\n",
        "  # summarize history for loss\n",
        "  plt.subplot(122)\n",
        "  plt.plot(history.history['loss'])\n",
        "  plt.plot(history.history['val_loss'])\n",
        "  plt.title('model loss')\n",
        "  plt.ylabel('loss')\n",
        "  plt.xlabel('epoch')\n",
        "  plt.legend(['train', 'validation'], loc='upper left')\n",
        "  plt.show()\n",
        "\n",
        "show_history(history)"
      ]
    },
    {
      "cell_type": "code",
      "execution_count": null,
      "metadata": {
        "colab": {
          "base_uri": "https://localhost:8080/",
          "height": 301
        },
        "id": "WcnHZQgWvKm_",
        "outputId": "640fba63-8272-4678-d398-18b8e215c9d1"
      },
      "outputs": [
        {
          "output_type": "stream",
          "name": "stdout",
          "text": [
            "13/13 [==============================] - 2s 161ms/step\n"
          ]
        },
        {
          "output_type": "display_data",
          "data": {
            "text/plain": [
              "<Figure size 432x288 with 1 Axes>"
            ],
            "image/png": "[encoded data removed]"
          },
          "metadata": {
            "needs_background": "light"
          }
        }
      ],
      "source": [
        "test_predictions = model.predict(x_test).flatten()\n",
        "\n",
        "#print(\"test_predictions\", test_predictions)\n",
        "#print(\"y_test\", y_test)\n",
        "\n",
        "a = plt.axes(aspect='equal')\n",
        "plt.scatter(y_test, test_predictions)\n",
        "plt.xlabel('True Values ')\n",
        "plt.ylabel('Predictions')\n",
        "lims = [0, 1]\n",
        "plt.xlim(lims)\n",
        "plt.ylim(lims)\n",
        "_ = plt.plot(lims, lims)"
      ]
    },
    {
      "cell_type": "code",
      "execution_count": null,
      "metadata": {
        "colab": {
          "base_uri": "https://localhost:8080/",
          "height": 222
        },
        "id": "I2ra1XZFwPIr",
        "outputId": "995c08cb-7938-4521-97a2-cbbd9178bb94"
      },
      "outputs": [
        {
          "output_type": "error",
          "ename": "NameError",
          "evalue": "ignored",
          "traceback": [
            "\u001b[0;31m---------------------------------------------------------------------------\u001b[0m",
            "\u001b[0;31mNameError\u001b[0m                                 Traceback (most recent call last)",
            "\u001b[0;32m<ipython-input-17-a68e70011a2c>\u001b[0m in \u001b[0;36m<module>\u001b[0;34m\u001b[0m\n\u001b[0;32m----> 1\u001b[0;31m \u001b[0merror\u001b[0m \u001b[0;34m=\u001b[0m \u001b[0mtest_predictions\u001b[0m \u001b[0;34m-\u001b[0m \u001b[0my_test\u001b[0m\u001b[0;34m\u001b[0m\u001b[0;34m\u001b[0m\u001b[0m\n\u001b[0m\u001b[1;32m      2\u001b[0m \u001b[0mplt\u001b[0m\u001b[0;34m.\u001b[0m\u001b[0mhist\u001b[0m\u001b[0;34m(\u001b[0m\u001b[0merror\u001b[0m\u001b[0;34m,\u001b[0m \u001b[0mbins\u001b[0m\u001b[0;34m=\u001b[0m\u001b[0;36m25\u001b[0m\u001b[0;34m)\u001b[0m\u001b[0;34m\u001b[0m\u001b[0;34m\u001b[0m\u001b[0m\n\u001b[1;32m      3\u001b[0m \u001b[0mplt\u001b[0m\u001b[0;34m.\u001b[0m\u001b[0mxlabel\u001b[0m\u001b[0;34m(\u001b[0m\u001b[0;34m'Prediction Error '\u001b[0m\u001b[0;34m)\u001b[0m\u001b[0;34m\u001b[0m\u001b[0;34m\u001b[0m\u001b[0m\n\u001b[1;32m      4\u001b[0m \u001b[0m_\u001b[0m \u001b[0;34m=\u001b[0m \u001b[0mplt\u001b[0m\u001b[0;34m.\u001b[0m\u001b[0mylabel\u001b[0m\u001b[0;34m(\u001b[0m\u001b[0;34m'Count'\u001b[0m\u001b[0;34m)\u001b[0m\u001b[0;34m\u001b[0m\u001b[0;34m\u001b[0m\u001b[0m\n",
            "\u001b[0;31mNameError\u001b[0m: name 'test_predictions' is not defined"
          ]
        }
      ],
      "source": [
        "error = test_predictions - y_test\n",
        "plt.hist(error, bins=25)\n",
        "plt.xlabel('Prediction Error ')\n",
        "_ = plt.ylabel('Count')"
      ]
    },
    {
      "cell_type": "markdown",
      "metadata": {
        "id": "0LbRaB_9h6mU"
      },
      "source": [
        "# CNN model"
      ]
    },
    {
      "cell_type": "markdown",
      "metadata": {
        "id": "tpzbw_At_7ut"
      },
      "source": [
        "Define the model, inspiration from https://pyimagesearch.com/2019/01/28/keras-regression-and-cnns/"
      ]
    },
    {
      "cell_type": "code",
      "execution_count": null,
      "metadata": {
        "id": "fWy4M3Yeh9hg"
      },
      "outputs": [],
      "source": [
        "def create_cnn(width, height, depth, filters=(16, 32, 64), regress=False):\n",
        "    # initialize the input shape and channel dimension, assuming\n",
        "    # TensorFlow/channels-last ordering\n",
        "    inputShape = (height, width, depth)\n",
        "    chanDim = -1\n",
        "    # # define the model input\n",
        "    # inputs = Input(shape=inputShape)\n",
        "\n",
        "    conv_base = VGG16(weights='imagenet',\n",
        "                      include_top=False, input_shape =(256,256,3))\n",
        "    vgg_base = tensorflow.keras.models.Sequential(conv_base.layers[:-1])\n",
        "    z = vgg_base.output\n",
        "\n",
        "    # loop over the number of filters\n",
        "    for (i, f) in enumerate(filters):\n",
        "        # # if this is the first CONV layer then set the input\n",
        "        # # appropriately\n",
        "        if i == 0:\n",
        "            x = z\n",
        "        # CONV => RELU => BN => POOL\n",
        "        x = Conv2D(f, (3, 3), padding=\"same\")(x)\n",
        "        x = Activation(\"relu\")(x)\n",
        "        x = BatchNormalization(axis=chanDim)(x)\n",
        "        x = MaxPooling2D(pool_size=(2, 2))(x)\n",
        "\n",
        "    # flatten the volume, then FC => RELU => BN => DROPOUT\n",
        "    x = Flatten()(x)\n",
        "    x = Dense(16)(x)\n",
        "    x = Activation(\"relu\")(x)\n",
        "    x = BatchNormalization(axis=chanDim)(x)\n",
        "    x = Dropout(0.5)(x)\n",
        "    # apply another FC layer, this one to match the number of nodes\n",
        "    # coming out of the MLP\n",
        "    x = Dense(4)(x)\n",
        "    x = Activation(\"relu\")(x)\n",
        "    # check to see if the regression node should be added\n",
        "\n",
        "    if regress:\n",
        "        x = Dense(1, activation=\"linear\")(x)\n",
        "    # construct the CNN\n",
        "    model = tensorflow.keras.Model(vgg_base.input, x)\n",
        "    # return the CNN\n",
        "    return model"
      ]
    },
    {
      "cell_type": "markdown",
      "metadata": {
        "id": "jhNjzmecAF6r"
      },
      "source": [
        "##Train the model"
      ]
    },
    {
      "cell_type": "code",
      "execution_count": null,
      "metadata": {
        "colab": {
          "base_uri": "https://localhost:8080/"
        },
        "id": "srp8Z-gq3HA3",
        "outputId": "c4f8b856-6fbc-41fa-c11b-cbffc5d97bd7"
      },
      "outputs": [
        {
          "output_type": "stream",
          "name": "stdout",
          "text": [
            "[INFO] training model...\n",
            "Epoch 1/20\n",
            "40/40 [==============================] - 31s 582ms/step - loss: 0.1869 - val_loss: 1.1957\n",
            "Epoch 2/20\n",
            "40/40 [==============================] - 24s 589ms/step - loss: 0.0555 - val_loss: 0.2791\n",
            "Epoch 3/20\n",
            "40/40 [==============================] - 23s 573ms/step - loss: 0.0366 - val_loss: 0.0486\n",
            "Epoch 4/20\n",
            "40/40 [==============================] - 22s 548ms/step - loss: 0.0291 - val_loss: 0.0440\n",
            "Epoch 5/20\n",
            "40/40 [==============================] - 22s 555ms/step - loss: 0.0276 - val_loss: 0.0339\n",
            "Epoch 6/20\n",
            "40/40 [==============================] - 23s 578ms/step - loss: 0.0232 - val_loss: 0.0272\n",
            "Epoch 7/20\n",
            "40/40 [==============================] - 23s 573ms/step - loss: 0.0222 - val_loss: 0.0239\n",
            "Epoch 8/20\n",
            "40/40 [==============================] - 23s 576ms/step - loss: 0.0208 - val_loss: 0.0202\n",
            "Epoch 9/20\n",
            "40/40 [==============================] - 23s 580ms/step - loss: 0.0187 - val_loss: 0.0197\n",
            "Epoch 10/20\n",
            "40/40 [==============================] - 23s 577ms/step - loss: 0.0178 - val_loss: 0.0183\n",
            "Epoch 11/20\n",
            "40/40 [==============================] - 23s 575ms/step - loss: 0.0178 - val_loss: 0.0179\n",
            "Epoch 12/20\n",
            "40/40 [==============================] - 23s 577ms/step - loss: 0.0165 - val_loss: 0.0167\n",
            "Epoch 13/20\n",
            "40/40 [==============================] - 23s 580ms/step - loss: 0.0156 - val_loss: 0.0158\n",
            "Epoch 14/20\n",
            "40/40 [==============================] - 23s 578ms/step - loss: 0.0153 - val_loss: 0.0219\n",
            "Epoch 15/20\n",
            "40/40 [==============================] - 22s 556ms/step - loss: 0.0151 - val_loss: 0.0153\n",
            "Epoch 16/20\n",
            "40/40 [==============================] - 22s 554ms/step - loss: 0.0146 - val_loss: 0.0147\n",
            "Epoch 17/20\n",
            "40/40 [==============================] - 23s 578ms/step - loss: 0.0149 - val_loss: 0.0138\n",
            "Epoch 18/20\n",
            "40/40 [==============================] - 23s 576ms/step - loss: 0.0146 - val_loss: 0.0134\n",
            "Epoch 19/20\n",
            "40/40 [==============================] - 23s 576ms/step - loss: 0.0145 - val_loss: 0.0132\n",
            "Epoch 20/20\n",
            "40/40 [==============================] - 23s 577ms/step - loss: 0.0143 - val_loss: 0.0129\n"
          ]
        }
      ],
      "source": [
        "model = create_cnn(input_shape[0], input_shape[1], 3, regress=True)\n",
        "opt = tensorflow.keras.optimizers.legacy.Adam(learning_rate=1e-3, decay=1e-3 / 200)\n",
        "model.compile(loss=\"huber\", optimizer=opt)\n",
        "\n",
        "# train the model\n",
        "print(\"[INFO] training model...\")\n",
        "history = model.fit(x=x_train, y=y_train, \n",
        "          verbose=1,\n",
        "          validation_split=0.2,\n",
        "          epochs=20, batch_size=32)"
      ]
    },
    {
      "cell_type": "markdown",
      "metadata": {
        "id": "UvkmZB7GASlf"
      },
      "source": [
        "## Evaluate the model"
      ]
    },
    {
      "cell_type": "code",
      "execution_count": null,
      "metadata": {
        "id": "iAQZUkqU3GiZ",
        "colab": {
          "base_uri": "https://localhost:8080/",
          "height": 404
        },
        "outputId": "d3eb2b48-ff42-41bc-d402-8d745c18c7ff"
      },
      "outputs": [
        {
          "output_type": "display_data",
          "data": {
            "text/plain": [
              "<Figure size 1440x432 with 1 Axes>"
            ],
            "image/png": "[encoded data removed]"
          },
          "metadata": {
            "needs_background": "light"
          }
        }
      ],
      "source": [
        "show_history(history)"
      ]
    },
    {
      "cell_type": "code",
      "execution_count": null,
      "metadata": {
        "id": "qgEMm7HdCG8r",
        "colab": {
          "base_uri": "https://localhost:8080/"
        },
        "outputId": "f41f3617-8b9a-4614-fbec-a11d16f280be"
      },
      "outputs": [
        {
          "output_type": "stream",
          "name": "stdout",
          "text": [
            "Test loss: 0.024335671216249466\n"
          ]
        }
      ],
      "source": [
        "score = model.evaluate(x_test, y_test, verbose=0)\n",
        "print('Test loss:', score)"
      ]
    },
    {
      "cell_type": "code",
      "execution_count": null,
      "metadata": {
        "id": "Glr8hli5AsFV",
        "colab": {
          "base_uri": "https://localhost:8080/",
          "height": 301
        },
        "outputId": "eb1f171f-6737-457c-f06c-7c96fec0906d"
      },
      "outputs": [
        {
          "output_type": "stream",
          "name": "stdout",
          "text": [
            "13/13 [==============================] - 2s 163ms/step\n"
          ]
        },
        {
          "output_type": "display_data",
          "data": {
            "text/plain": [
              "<Figure size 432x288 with 1 Axes>"
            ],
            "image/png": "[encoded data removed]"
          },
          "metadata": {
            "needs_background": "light"
          }
        }
      ],
      "source": [
        "test_predictions = model.predict(x_test).flatten()\n",
        "\n",
        "a = plt.axes(aspect='equal')\n",
        "plt.scatter(y_test, test_predictions)\n",
        "plt.xlabel('True Values ')\n",
        "plt.ylabel('Predictions')\n",
        "lims = [0, 1]\n",
        "plt.xlim(lims)\n",
        "plt.ylim(lims)\n",
        "_ = plt.plot(lims, lims)"
      ]
    },
    {
      "cell_type": "markdown",
      "source": [
        "# Late Fusion with Land Cover"
      ],
      "metadata": {
        "id": "02_OBZhcRtOx"
      }
    },
    {
      "cell_type": "code",
      "source": [
        "'''Open and fix shape of land cover images'''\n",
        "#!unzip 'landcover.zip'\n",
        "land_cover_data_map = {}\n",
        "land_cover_img_names = []\n",
        "\n",
        "dir_path = \"/content/landcover\" #/content/x_data/x/8.png\n",
        "for i,image in enumerate(os.listdir(dir_path)):\n",
        "    if image == \".DS_Store\" or image ==\".ipynb_checkpoints\":\n",
        "        continue\n",
        "    land_cover_img_names.append(image)\n",
        "    img = Image.open(dir_path+\"/\"+image)\n",
        "    #img.show()\n",
        "\n",
        "    #crop image\n",
        "    box = (0, 0, 21, 21)\n",
        "    img = img.crop(box)\n",
        "\n",
        "    #downscale image to lower resolution #TODO maybe make data generator instead\n",
        "    #img = img.resize((256,256),Image.ANTIALIAS)\n",
        "\n",
        "    img2np = np.array(img)\n",
        "    img2np = img2np[:,:] #removing the alpha dimension\n",
        "    img2np = img2np.astype('float32')\n",
        "    img2np /= 200 #unknown has intensity value 200\n",
        "    land_cover_data_map[image] = img2np\n"
      ],
      "metadata": {
        "id": "waUArWrBSAqs",
        "colab": {
          "base_uri": "https://localhost:8080/",
          "height": 240
        },
        "outputId": "2ec8f2f1-1b64-4e32-9fa5-089871475e97"
      },
      "execution_count": null,
      "outputs": [
        {
          "output_type": "error",
          "ename": "FileNotFoundError",
          "evalue": "ignored",
          "traceback": [
            "\u001b[0;31m---------------------------------------------------------------------------\u001b[0m",
            "\u001b[0;31mFileNotFoundError\u001b[0m                         Traceback (most recent call last)",
            "\u001b[0;32m<ipython-input-11-c6f618d974f0>\u001b[0m in \u001b[0;36m<module>\u001b[0;34m\u001b[0m\n\u001b[1;32m      5\u001b[0m \u001b[0;34m\u001b[0m\u001b[0m\n\u001b[1;32m      6\u001b[0m \u001b[0mdir_path\u001b[0m \u001b[0;34m=\u001b[0m \u001b[0;34m\"/content/landcover\"\u001b[0m \u001b[0;31m#/content/x_data/x/8.png\u001b[0m\u001b[0;34m\u001b[0m\u001b[0;34m\u001b[0m\u001b[0m\n\u001b[0;32m----> 7\u001b[0;31m \u001b[0;32mfor\u001b[0m \u001b[0mi\u001b[0m\u001b[0;34m,\u001b[0m\u001b[0mimage\u001b[0m \u001b[0;32min\u001b[0m \u001b[0menumerate\u001b[0m\u001b[0;34m(\u001b[0m\u001b[0mos\u001b[0m\u001b[0;34m.\u001b[0m\u001b[0mlistdir\u001b[0m\u001b[0;34m(\u001b[0m\u001b[0mdir_path\u001b[0m\u001b[0;34m)\u001b[0m\u001b[0;34m)\u001b[0m\u001b[0;34m:\u001b[0m\u001b[0;34m\u001b[0m\u001b[0;34m\u001b[0m\u001b[0m\n\u001b[0m\u001b[1;32m      8\u001b[0m     \u001b[0;32mif\u001b[0m \u001b[0mimage\u001b[0m \u001b[0;34m==\u001b[0m \u001b[0;34m\".DS_Store\"\u001b[0m \u001b[0;32mor\u001b[0m \u001b[0mimage\u001b[0m \u001b[0;34m==\u001b[0m\u001b[0;34m\".ipynb_checkpoints\"\u001b[0m\u001b[0;34m:\u001b[0m\u001b[0;34m\u001b[0m\u001b[0;34m\u001b[0m\u001b[0m\n\u001b[1;32m      9\u001b[0m         \u001b[0;32mcontinue\u001b[0m\u001b[0;34m\u001b[0m\u001b[0;34m\u001b[0m\u001b[0m\n",
            "\u001b[0;31mFileNotFoundError\u001b[0m: [Errno 2] No such file or directory: '/content/landcover'"
          ]
        }
      ]
    },
    {
      "cell_type": "code",
      "source": [
        "# Match the correct data point in X with the correct label in y by sorting by the image names.\n",
        "sorted_keys = natsorted(land_cover_data_map.keys())\n",
        "\n",
        "x_data_land_cover = []\n",
        "for key in sorted_keys:\n",
        "    x_data_land_cover.append(land_cover_data_map[key])\n",
        "\n",
        "x_data_land_cover = np.array(x_data_land_cover)\n",
        "print(y_labels[0])\n",
        "plt.imshow(x_data_land_cover[0])\n",
        "\n",
        "print(\"Shape:\",np.array(x_data_land_cover).shape)"
      ],
      "metadata": {
        "colab": {
          "base_uri": "https://localhost:8080/",
          "height": 300
        },
        "id": "HilAMYK0Z6dg",
        "outputId": "a389c681-83dc-4417-cccb-ff3791e6101e"
      },
      "execution_count": null,
      "outputs": [
        {
          "output_type": "stream",
          "name": "stdout",
          "text": [
            "0.1875\n",
            "Shape: (263, 21, 21)\n"
          ]
        },
        {
          "output_type": "display_data",
          "data": {
            "text/plain": [
              "<Figure size 432x288 with 1 Axes>"
            ],
            "image/png": "[encoded data removed]"
          },
          "metadata": {
            "needs_background": "light"
          }
        }
      ]
    },
    {
      "cell_type": "code",
      "source": [
        "dataset_size = x_data_land_cover.shape[0]\n",
        "x_train_land_cover = x_data_land_cover[:int(dataset_size*0.8)]\n",
        "x_test_land_cover = x_data_land_cover[int(dataset_size*0.8):]\n",
        "\n",
        "print(x_train_land_cover.shape, x_test_land_cover.shape)"
      ],
      "metadata": {
        "colab": {
          "base_uri": "https://localhost:8080/"
        },
        "id": "o8AsSAlzTWL0",
        "outputId": "23744ee9-202d-4db4-b4c1-ff3447b2e1c5"
      },
      "execution_count": null,
      "outputs": [
        {
          "output_type": "stream",
          "name": "stdout",
          "text": [
            "(210, 21, 21) (53, 21, 21)\n"
          ]
        }
      ]
    },
    {
      "cell_type": "code",
      "source": [
        "def create_late_fusion_cnn(width, height, depth, filters=(16, 32, 64), regress=False):\n",
        "    # initialize the input shape and channel dimension, assuming\n",
        "    # TensorFlow/channels-last ordering\n",
        "    inputShape = (height, width, depth)\n",
        "    chanDim = -1\n",
        "    # # define the model input\n",
        "    # inputs = Input(shape=inputShape)\n",
        "\n",
        "    conv_base = VGG16(weights='imagenet',\n",
        "                      include_top=False, input_shape =(256,256,3))\n",
        "    vgg_base = tensorflow.keras.models.Sequential(conv_base.layers[:-1])\n",
        "    z = vgg_base.output\n",
        "\n",
        "    # loop over the number of filters\n",
        "    for (i, f) in enumerate(filters):\n",
        "        # # if this is the first CONV layer then set the input\n",
        "        # # appropriately\n",
        "        if i == 0:\n",
        "            x = z\n",
        "        # CONV => RELU => BN => POOL\n",
        "        x = Conv2D(f, (3, 3), padding=\"same\")(x)\n",
        "        x = Activation(\"relu\")(x)\n",
        "        x = BatchNormalization(axis=chanDim)(x)\n",
        "        x = MaxPooling2D(pool_size=(2, 2))(x)\n",
        "\n",
        "    # flatten the volume, then FC => RELU => BN => DROPOUT\n",
        "    x = Flatten()(x)\n",
        "    x = Dense(16)(x)\n",
        "    x = Activation(\"relu\")(x)\n",
        "    x = BatchNormalization(axis=chanDim)(x)\n",
        "    x = Dropout(0.5)(x)\n",
        "    # apply another FC layer, this one to match the number of nodes\n",
        "    # coming out of the MLP\n",
        "    x = Dense(4)(x)\n",
        "    x = Activation(\"relu\")(x)\n",
        "    # check to see if the regression node should be added\n",
        "    x = Dense(1, activation=\"linear\")(x)\n",
        "\n",
        "    '''Land Cover Model (LCM)'''\n",
        "    inputShape_landcover = (1,21,21)\n",
        "    x2 = Sequential()\n",
        "    x2 = Conv2D(filters=16,kernel_size=(4,4), padding=\"same\", activation=\"relu\")\n",
        "    x2 = BatchNormalization(axis=-1)(x2)\n",
        "    x2 = MaxPooling2D(pool_size=(3,3))(x2)\n",
        "    x2 = Conv2D(filters=32, stride=(4,4), padding=\"same\", activation=\"relu\")\n",
        "    x2 = BatchNormalization(axis=-1)(x2)\n",
        "    x2 = MaxPooling2D(pool_size=(3,3))(x2)\n",
        "    x2 = Flatten()(x2)\n",
        "    x2 = Dense(1, activation=\"linear\")(x2)\n",
        "    \n",
        "\n",
        "    \n",
        "    x_combined = concatenate([x,x2])\n",
        "    x_combined = Sequential(x_combined)\n",
        "    prediction = Dense(1, activation=\"relu\")(x_combined)\n",
        "\n",
        "        \n",
        "    # construct the CNN\n",
        "    model = tensorflow.keras.Model(inputs=[vgg_base.input, x2], output=prediction)\n",
        "    # return the CNN\n",
        "    return model"
      ],
      "metadata": {
        "id": "FxbBhYW3RscZ"
      },
      "execution_count": null,
      "outputs": []
    },
    {
      "cell_type": "code",
      "source": [
        "'''VGG base model'''\n",
        "base_model1 = VGG16(weights='imagenet', include_top=False, input_shape=(256, 256, 3))\n",
        "#freeze layers\n",
        "for layer in base_model1.layers:\n",
        "    layer.trainable = False\n",
        "\n",
        "x1 = base_model1.output\n",
        "x1 = GlobalAveragePooling2D()(x1)\n",
        "x1 = Dropout(0.2)(x1)\n",
        "\n",
        "\n",
        "'''Land Cover'''\n",
        "#base_model2 = keras.layers.Input(shape=(21, ))\n",
        "base_model2 = Sequential()#(input1)\n",
        "#base_model2.add(Dense(16,activation='relu'))\n",
        "#base_model2.add(Dropout(0.2))\n",
        "#base_model2.add(Dense(8,activation='relu'))\n",
        "#base_model2.add(Dropout(0.2))\n",
        "#base_model2.add(Dense(4,activation='relu'))\n",
        "#base_model2.add(Flatten())\n",
        "base_model2.add(Conv2D(filters=16,kernel_size=3, padding=\"same\", activation=\"relu\"))\n",
        "base_model2.add(BatchNormalization(axis=-1))\n",
        "base_model2.add(MaxPooling2D(pool_size=3))\n",
        "base_model2.add(Conv2D(filters=32, kernel_size=3, padding=\"same\", activation=\"relu\"))\n",
        "base_model2.add(BatchNormalization(axis=-1))\n",
        "base_model2.add(MaxPooling2D(pool_size=3))\n",
        "base_model2.add(Flatten())\n",
        "base_model2.add(Dense(1, activation=\"linear\"))\n",
        "base_model2.build((None,21,21,1))\n",
        "x2 = base_model2.output\n",
        "\n",
        "\n",
        "\n",
        "\n",
        "\n",
        "'''Combining'''\n",
        "x_combined = concatenate([x1,x2])\n",
        "x_combined = Sequential()(x_combined)\n",
        "predictions = Dense(1, activation=\"relu\")(x_combined)\n",
        "\n",
        "modelWithLandcover = Model(inputs=[base_model1.input, base_model2.input], outputs=predictions) \n",
        "modelWithLandcover.compile(optimizer='adam', loss='huber')\n",
        "#model.build([(None,256,256),(None,21,21)])\n",
        "summary = modelWithLandcover.summary()\n",
        "\n",
        "\n",
        "\n",
        "\n",
        "#base_model2.compile(optimizer='adam', loss='huber')\n",
        "#base_model2.build((None,21,21))\n",
        "#base_model2.summary()"
      ],
      "metadata": {
        "id": "iKk5VDezgtCC"
      },
      "execution_count": null,
      "outputs": []
    },
    {
      "cell_type": "code",
      "source": [
        "modelWithLandcover.compile(optimizer='adam', loss='mse')\n",
        "history = modelWithLandcover.fit(x=[x_train,x_train_land_cover], y=[y_train,y_train], \n",
        "          verbose=1,\n",
        "          validation_split=0.2,\n",
        "          epochs=10, batch_size=32)"
      ],
      "metadata": {
        "colab": {
          "base_uri": "https://localhost:8080/"
        },
        "id": "e0s3k4rJyRmf",
        "outputId": "43059406-f885-449b-b41b-a131046f02b0"
      },
      "execution_count": null,
      "outputs": [
        {
          "output_type": "stream",
          "name": "stdout",
          "text": [
            "Epoch 1/10\n",
            "6/6 [==============================] - 5s 248ms/step - loss: 0.6810 - val_loss: 0.1817\n",
            "Epoch 2/10\n",
            "6/6 [==============================] - 1s 182ms/step - loss: 0.2645 - val_loss: 0.0439\n",
            "Epoch 3/10\n",
            "6/6 [==============================] - 1s 180ms/step - loss: 0.1017 - val_loss: 0.0643\n",
            "Epoch 4/10\n",
            "6/6 [==============================] - 1s 180ms/step - loss: 0.0749 - val_loss: 0.0791\n",
            "Epoch 5/10\n",
            "6/6 [==============================] - 1s 181ms/step - loss: 0.0749 - val_loss: 0.0791\n",
            "Epoch 6/10\n",
            "6/6 [==============================] - 1s 181ms/step - loss: 0.0727 - val_loss: 0.0791\n",
            "Epoch 7/10\n",
            "6/6 [==============================] - 1s 182ms/step - loss: 0.0747 - val_loss: 0.0791\n",
            "Epoch 8/10\n",
            "6/6 [==============================] - 1s 181ms/step - loss: 0.0771 - val_loss: 0.0791\n",
            "Epoch 9/10\n",
            "6/6 [==============================] - 1s 180ms/step - loss: 0.0729 - val_loss: 0.0791\n",
            "Epoch 10/10\n",
            "6/6 [==============================] - 1s 184ms/step - loss: 0.0737 - val_loss: 0.0791\n"
          ]
        }
      ]
    },
    {
      "cell_type": "code",
      "source": [
        "show_history(history)\n",
        "score = model.evaluate(x=[x_test,x_test_land_cover], y=y_test, verbose=0)\n",
        "print('Test loss:', score)\n",
        "test_predictions = model.predict(x=[x_test,x_test_land_cover]).flatten()\n",
        "\n",
        "a = plt.axes(aspect='equal')\n",
        "plt.scatter(y_test, test_predictions)\n",
        "plt.xlabel('True Values ')\n",
        "plt.ylabel('Predictions')\n",
        "lims = [0, 1]\n",
        "plt.xlim(lims)\n",
        "plt.ylim(lims)\n",
        "_ = plt.plot(lims, lims)\n",
        "\n"
      ],
      "metadata": {
        "id": "JiQnjDeO1dBF"
      },
      "execution_count": null,
      "outputs": []
    },
    {
      "cell_type": "code",
      "source": [
        "'''VGG base model'''\n",
        "base_model1 = VGG16(weights='imagenet', include_top=False, input_shape=(256, 256, 3))\n",
        "#freeze layers\n",
        "for layer in base_model1.layers:\n",
        "    layer.trainable = False\n",
        "\n",
        "top_model = base_model1.output\n",
        "#top_model = Flatten(name=\"flatten\")(top_model)\n",
        "top_model = GlobalAveragePooling2D()(top_model)\n",
        "top_model = Dense(4096, activation='relu')(top_model)\n",
        "top_model = Dropout(0.2)(top_model)\n",
        "top_model = Dense(2048, activation='relu')(top_model)\n",
        "top_model = Dropout(0.2)(top_model)\n",
        "top_model = Dense(1024, activation='relu')(top_model)\n",
        "top_model = Dropout(0.2)(top_model)\n",
        "output_layer = Dense(1, activation='linear')(top_model)\n",
        "\n",
        "model = Model(inputs=base_model1.input, outputs=output_layer)\n",
        "model.compile(optimizer='adam', loss='mse')\n",
        "model.summary()"
      ],
      "metadata": {
        "id": "-r8Y77e6EjBu",
        "colab": {
          "base_uri": "https://localhost:8080/"
        },
        "outputId": "f8150f8a-0322-46b7-bbca-0b3d3a8cd9ba"
      },
      "execution_count": 9,
      "outputs": [
        {
          "output_type": "stream",
          "name": "stdout",
          "text": [
            "Model: \"model\"\n",
            "_________________________________________________________________\n",
            " Layer (type)                Output Shape              Param #   \n",
            "=================================================================\n",
            " input_1 (InputLayer)        [(None, 256, 256, 3)]     0         \n",
            "                                                                 \n",
            " block1_conv1 (Conv2D)       (None, 256, 256, 64)      1792      \n",
            "                                                                 \n",
            " block1_conv2 (Conv2D)       (None, 256, 256, 64)      36928     \n",
            "                                                                 \n",
            " block1_pool (MaxPooling2D)  (None, 128, 128, 64)      0         \n",
            "                                                                 \n",
            " block2_conv1 (Conv2D)       (None, 128, 128, 128)     73856     \n",
            "                                                                 \n",
            " block2_conv2 (Conv2D)       (None, 128, 128, 128)     147584    \n",
            "                                                                 \n",
            " block2_pool (MaxPooling2D)  (None, 64, 64, 128)       0         \n",
            "                                                                 \n",
            " block3_conv1 (Conv2D)       (None, 64, 64, 256)       295168    \n",
            "                                                                 \n",
            " block3_conv2 (Conv2D)       (None, 64, 64, 256)       590080    \n",
            "                                                                 \n",
            " block3_conv3 (Conv2D)       (None, 64, 64, 256)       590080    \n",
            "                                                                 \n",
            " block3_pool (MaxPooling2D)  (None, 32, 32, 256)       0         \n",
            "                                                                 \n",
            " block4_conv1 (Conv2D)       (None, 32, 32, 512)       1180160   \n",
            "                                                                 \n",
            " block4_conv2 (Conv2D)       (None, 32, 32, 512)       2359808   \n",
            "                                                                 \n",
            " block4_conv3 (Conv2D)       (None, 32, 32, 512)       2359808   \n",
            "                                                                 \n",
            " block4_pool (MaxPooling2D)  (None, 16, 16, 512)       0         \n",
            "                                                                 \n",
            " block5_conv1 (Conv2D)       (None, 16, 16, 512)       2359808   \n",
            "                                                                 \n",
            " block5_conv2 (Conv2D)       (None, 16, 16, 512)       2359808   \n",
            "                                                                 \n",
            " block5_conv3 (Conv2D)       (None, 16, 16, 512)       2359808   \n",
            "                                                                 \n",
            " block5_pool (MaxPooling2D)  (None, 8, 8, 512)         0         \n",
            "                                                                 \n",
            " global_average_pooling2d (G  (None, 512)              0         \n",
            " lobalAveragePooling2D)                                          \n",
            "                                                                 \n",
            " dense_4 (Dense)             (None, 4096)              2101248   \n",
            "                                                                 \n",
            " dropout (Dropout)           (None, 4096)              0         \n",
            "                                                                 \n",
            " dense_5 (Dense)             (None, 2048)              8390656   \n",
            "                                                                 \n",
            " dropout_1 (Dropout)         (None, 2048)              0         \n",
            "                                                                 \n",
            " dense_6 (Dense)             (None, 1024)              2098176   \n",
            "                                                                 \n",
            " dropout_2 (Dropout)         (None, 1024)              0         \n",
            "                                                                 \n",
            " dense_7 (Dense)             (None, 1)                 1025      \n",
            "                                                                 \n",
            "=================================================================\n",
            "Total params: 27,305,793\n",
            "Trainable params: 12,591,105\n",
            "Non-trainable params: 14,714,688\n",
            "_________________________________________________________________\n"
          ]
        }
      ]
    },
    {
      "cell_type": "code",
      "source": [
        "model.compile(optimizer='RMSprop', loss='huber', metrics=['mse','mae'])\n",
        "callback = keras.callbacks.EarlyStopping(monitor='val_loss', patience=5, restore_best_weights=True)\n",
        "history = model.fit(x=x_train, y=y_train, \n",
        "          verbose=1, callbacks=[callback],\n",
        "          validation_split=0.2,\n",
        "          epochs=30, batch_size=8)"
      ],
      "metadata": {
        "colab": {
          "base_uri": "https://localhost:8080/",
          "height": 240
        },
        "id": "2EEDyZ5TVMQZ",
        "outputId": "c49c25f6-2601-4391-834f-2ddff7efee8a"
      },
      "execution_count": null,
      "outputs": [
        {
          "output_type": "error",
          "ename": "NameError",
          "evalue": "ignored",
          "traceback": [
            "\u001b[0;31m---------------------------------------------------------------------------\u001b[0m",
            "\u001b[0;31mNameError\u001b[0m                                 Traceback (most recent call last)",
            "\u001b[0;32m<ipython-input-60-4c152b17e912>\u001b[0m in \u001b[0;36m<module>\u001b[0;34m\u001b[0m\n\u001b[1;32m      1\u001b[0m \u001b[0mmodel\u001b[0m\u001b[0;34m.\u001b[0m\u001b[0mcompile\u001b[0m\u001b[0;34m(\u001b[0m\u001b[0moptimizer\u001b[0m\u001b[0;34m=\u001b[0m\u001b[0;34m'RMSprop'\u001b[0m\u001b[0;34m,\u001b[0m \u001b[0mloss\u001b[0m\u001b[0;34m=\u001b[0m\u001b[0;34m'huber'\u001b[0m\u001b[0;34m,\u001b[0m \u001b[0mmetrics\u001b[0m\u001b[0;34m=\u001b[0m\u001b[0;34m[\u001b[0m\u001b[0;34m'mse'\u001b[0m\u001b[0;34m,\u001b[0m\u001b[0;34m'mae'\u001b[0m\u001b[0;34m]\u001b[0m\u001b[0;34m)\u001b[0m\u001b[0;34m\u001b[0m\u001b[0;34m\u001b[0m\u001b[0m\n\u001b[1;32m      2\u001b[0m \u001b[0mcallback\u001b[0m \u001b[0;34m=\u001b[0m \u001b[0mkeras\u001b[0m\u001b[0;34m.\u001b[0m\u001b[0mcallbacks\u001b[0m\u001b[0;34m.\u001b[0m\u001b[0mEarlyStopping\u001b[0m\u001b[0;34m(\u001b[0m\u001b[0mmonitor\u001b[0m\u001b[0;34m=\u001b[0m\u001b[0;34m'val_loss'\u001b[0m\u001b[0;34m,\u001b[0m \u001b[0mpatience\u001b[0m\u001b[0;34m=\u001b[0m\u001b[0;36m5\u001b[0m\u001b[0;34m,\u001b[0m \u001b[0mrestore_best_weights\u001b[0m\u001b[0;34m=\u001b[0m\u001b[0;32mTrue\u001b[0m\u001b[0;34m)\u001b[0m\u001b[0;34m\u001b[0m\u001b[0;34m\u001b[0m\u001b[0m\n\u001b[0;32m----> 3\u001b[0;31m history = model.fit(x=x_train, y=y_train, \n\u001b[0m\u001b[1;32m      4\u001b[0m           \u001b[0mverbose\u001b[0m\u001b[0;34m=\u001b[0m\u001b[0;36m1\u001b[0m\u001b[0;34m,\u001b[0m \u001b[0mcallbacks\u001b[0m\u001b[0;34m=\u001b[0m\u001b[0;34m[\u001b[0m\u001b[0mcallback\u001b[0m\u001b[0;34m]\u001b[0m\u001b[0;34m,\u001b[0m\u001b[0;34m\u001b[0m\u001b[0;34m\u001b[0m\u001b[0m\n\u001b[1;32m      5\u001b[0m           \u001b[0mvalidation_split\u001b[0m\u001b[0;34m=\u001b[0m\u001b[0;36m0.2\u001b[0m\u001b[0;34m,\u001b[0m\u001b[0;34m\u001b[0m\u001b[0;34m\u001b[0m\u001b[0m\n",
            "\u001b[0;31mNameError\u001b[0m: name 'x_train' is not defined"
          ]
        }
      ]
    },
    {
      "cell_type": "code",
      "source": [
        "show_history(history)\n",
        "score = model.evaluate(x=x_test, y=y_test, verbose=0)\n",
        "print('Test loss:', score)\n",
        "test_predictions = model.predict(x=x_test).flatten()\n",
        "\n",
        "a = plt.axes(aspect='equal')\n",
        "plt.scatter(y_test, test_predictions)\n",
        "plt.xlabel('True Values ')\n",
        "plt.ylabel('Predictions')\n",
        "lims = [0, 1]\n",
        "plt.xlim(lims)\n",
        "plt.ylim(lims)\n",
        "_ = plt.plot(lims, lims)\n",
        "\n"
      ],
      "metadata": {
        "id": "A7rP4ObjVYPo"
      },
      "execution_count": null,
      "outputs": []
    },
    {
      "cell_type": "markdown",
      "source": [
        "# ImageDataGenerator"
      ],
      "metadata": {
        "id": "Jczen-63_x3e"
      }
    },
    {
      "cell_type": "markdown",
      "source": [
        "We use the split-folders library to make the satellite images into test, training and validation data. Using the ratios training (70%), validation (20%) and testing (10%)"
      ],
      "metadata": {
        "id": "KRjpUDFr7TBE"
      }
    },
    {
      "cell_type": "code",
      "source": [
        "#!pip install split-folders"
      ],
      "metadata": {
        "id": "wzVZ2PBb_zAu",
        "colab": {
          "base_uri": "https://localhost:8080/"
        },
        "outputId": "7edd2854-448e-4859-88c5-c0d12f2cd67d"
      },
      "execution_count": null,
      "outputs": [
        {
          "output_type": "stream",
          "name": "stdout",
          "text": [
            "Looking in indexes: https://pypi.org/simple, https://us-python.pkg.dev/colab-wheels/public/simple/\n",
            "Requirement already satisfied: split-folders in /usr/local/lib/python3.8/dist-packages (0.5.1)\n"
          ]
        }
      ]
    },
    {
      "cell_type": "code",
      "source": [
        "import splitfolders\n",
        "\n",
        "# Split with a ratio.\n",
        "# To only split into training and validation set, set a tuple to `ratio`, i.e, `(.8, .2)`.\n",
        "splitfolders.ratio(\"/content/drive/MyDrive/x_data/\", output=\"output\",\n",
        "    seed=1337, ratio=(.7, .2, .1), group_prefix=None, move=False) # (train:validation:test)\n"
      ],
      "metadata": {
        "colab": {
          "base_uri": "https://localhost:8080/"
        },
        "id": "d71t5Kt63xpM",
        "outputId": "e9f53436-9ee5-4305-90e6-e84c7a0e033b"
      },
      "execution_count": null,
      "outputs": [
        {
          "output_type": "stream",
          "name": "stderr",
          "text": [
            "Copying files: 2000 files [00:14, 140.58 files/s]\n"
          ]
        }
      ]
    },
    {
      "cell_type": "code",
      "source": [
        "'''\n",
        "This function is responsible for creating the dataframe containing the labels and image data\n",
        "'''\n",
        "def createDataFrame(label_dir, data_dir):\n",
        "  #Retrieve the ids\n",
        "  ids = []\n",
        "  for file in os.listdir(data_dir):\n",
        "    ids.append(file)\n",
        "  #Create empty DataFrame\n",
        "  df = pd.DataFrame()\n",
        "  #Append the data\n",
        "  df['filename'] = ids\n",
        "  #Append placeholder for the labels\n",
        "  df['label'] = ['0' for i in range(len(ids))]\n",
        "\n",
        "  #Append the scores/labels\n",
        "  with open(label_dir) as csv_file:\n",
        "    csv_reader = csv.reader(csv_file, delimiter=',')\n",
        "    for i,line in enumerate(csv_reader):\n",
        "      id = line[0]\n",
        "      pr = line[4]\n",
        "      for img in ids:\n",
        "        img_id, _ = img.split('_')\n",
        "        if img_id == id:\n",
        "          index = np.where(df[\"filename\"] == img)\n",
        "          df['label'].loc[index] = 10.0#pr\n",
        "  return df"
      ],
      "metadata": {
        "id": "Jz1d9Oz6a2FZ"
      },
      "execution_count": 3,
      "outputs": []
    },
    {
      "cell_type": "markdown",
      "source": [
        "Creating the dataframes"
      ],
      "metadata": {
        "id": "UYCYHqb48TVj"
      }
    },
    {
      "cell_type": "code",
      "source": [
        "train_data_dir = 'output/train/satellite_data'\n",
        "test_data_dir = 'output/test/satellite_data'\n",
        "val_data_dir = 'output/val/satellite_data'\n",
        "label_dir = '/content/drive/MyDrive/malaria_project/long_lat_year_2008_to_end.csv'\n",
        "\n",
        "train_df = createDataFrame(label_dir=label_dir, data_dir=train_data_dir)\n",
        "test_df = createDataFrame(label_dir=label_dir, data_dir=test_data_dir)\n",
        "val_df = createDataFrame(label_dir=label_dir, data_dir=val_data_dir)"
      ],
      "metadata": {
        "id": "MamXqqbnbghF"
      },
      "execution_count": 4,
      "outputs": []
    },
    {
      "cell_type": "code",
      "source": [
        "print(val_df)"
      ],
      "metadata": {
        "colab": {
          "base_uri": "https://localhost:8080/"
        },
        "id": "_kHK7jqki1hI",
        "outputId": "130c0968-b36f-4ded-ab8b-7cb9ca5ac019"
      },
      "execution_count": 5,
      "outputs": [
        {
          "output_type": "stream",
          "name": "stdout",
          "text": [
            "                       filename label\n",
            "0     1311_40.1081, -3.1279.png  10.0\n",
            "1      1393_44.8171, 4.5138.png  10.0\n",
            "2      1349_44.6519, 1.7692.png  10.0\n",
            "3        17_45.6175, 3.3458.png  10.0\n",
            "4      1185_34.719, -0.6034.png  10.0\n",
            "..                          ...   ...\n",
            "195     1969_34.763, 0.1923.png  10.0\n",
            "196  1966_34.5155, -13.9582.png  10.0\n",
            "197     139_46.6275, 3.3906.png  10.0\n",
            "198      207_46.3396, 3.043.png  10.0\n",
            "199   1871_39.5751, -4.2766.png  10.0\n",
            "\n",
            "[200 rows x 2 columns]\n"
          ]
        }
      ]
    },
    {
      "cell_type": "markdown",
      "source": [
        "Now we can create the datagenerators using Keras' ImageDataGenerator."
      ],
      "metadata": {
        "id": "cVEfFSVg8ZAN"
      }
    },
    {
      "cell_type": "code",
      "source": [
        "BATCH_SIZE=8\n",
        "train_datagen = ImageDataGenerator(\n",
        "                    rescale = 1./255,\n",
        "                    horizontal_flip=True,\n",
        "                    vertical_flip=True,\n",
        "                    fill_mode='nearest')\n",
        "\n",
        "train_generator = train_datagen.flow_from_dataframe(dataframe=train_df, \n",
        "                                                      directory=train_data_dir, \n",
        "                                                      x_col=\"filename\", y_col=\"label\", has_ext=True, \n",
        "                                                      class_mode=\"raw\", target_size=(1024, 1024), \n",
        "                                                      batch_size=BATCH_SIZE)\n",
        "\n",
        "validation_datagen = ImageDataGenerator(rescale = 1./255)\n",
        "\n",
        "val_generator = validation_datagen.flow_from_dataframe(dataframe=val_df, \n",
        "                                                      directory=val_data_dir,\n",
        "                                                      x_col=\"filename\", y_col=\"label\", has_ext=True,\n",
        "                                                      class_mode=\"raw\", target_size=(1024,1024),\n",
        "                                                      batch_size=BATCH_SIZE)"
      ],
      "metadata": {
        "colab": {
          "base_uri": "https://localhost:8080/"
        },
        "id": "EDc_dGo97uVH",
        "outputId": "b707a923-3c75-4c79-cc4d-5bfd763992be"
      },
      "execution_count": 6,
      "outputs": [
        {
          "output_type": "stream",
          "name": "stdout",
          "text": [
            "Found 1400 validated image filenames.\n",
            "Found 200 validated image filenames.\n"
          ]
        }
      ]
    },
    {
      "cell_type": "markdown",
      "source": [
        "Testing using the basic neural network"
      ],
      "metadata": {
        "id": "IJu_3N7V8jK1"
      }
    },
    {
      "cell_type": "code",
      "source": [
        "# Model\n",
        "model = Sequential()\n",
        "model.add(Flatten(input_shape=(1024,1024,3))) # input_shape is (28, 28, 1)\n",
        "model.add(Dense(32,activation='relu')) \n",
        "model.add(Dense(32,activation='relu')) \n",
        "model.add(Dense(32,activation='relu')) \n",
        "\n",
        "# model.add(Dense(64,activation='relu')) \n",
        "model.add(Dense(1, activation='linear')) \n",
        "model.compile(loss=\"mae\", optimizer=\"Adam\")\n",
        "model.summary()"
      ],
      "metadata": {
        "colab": {
          "base_uri": "https://localhost:8080/"
        },
        "id": "x-iMYpEUQlPG",
        "outputId": "3a472914-4f32-4b9e-c6c3-0e50f251666c"
      },
      "execution_count": 7,
      "outputs": [
        {
          "output_type": "stream",
          "name": "stdout",
          "text": [
            "Model: \"sequential\"\n",
            "_________________________________________________________________\n",
            " Layer (type)                Output Shape              Param #   \n",
            "=================================================================\n",
            " flatten (Flatten)           (None, 3145728)           0         \n",
            "                                                                 \n",
            " dense (Dense)               (None, 32)                100663328 \n",
            "                                                                 \n",
            " dense_1 (Dense)             (None, 32)                1056      \n",
            "                                                                 \n",
            " dense_2 (Dense)             (None, 32)                1056      \n",
            "                                                                 \n",
            " dense_3 (Dense)             (None, 1)                 33        \n",
            "                                                                 \n",
            "=================================================================\n",
            "Total params: 100,665,473\n",
            "Trainable params: 100,665,473\n",
            "Non-trainable params: 0\n",
            "_________________________________________________________________\n"
          ]
        }
      ]
    },
    {
      "cell_type": "code",
      "source": [
        "#https://stackoverflow.com/questions/64978209/valueerror-when-trying-to-execute-model-fit-failed-to-convert-a-numpy-array/\n",
        "train_generator._targets = np.stack(train_generator._targets)\n",
        "val_generator._targets = np.stack(val_generator._targets)\n",
        "\n",
        "model.fit(train_generator, verbose=1)"
      ],
      "metadata": {
        "colab": {
          "base_uri": "https://localhost:8080/"
        },
        "id": "wCdexg4NkNGu",
        "outputId": "60d7f856-79b7-44f3-d6a1-58e7a7a5998d"
      },
      "execution_count": 8,
      "outputs": [
        {
          "output_type": "stream",
          "name": "stdout",
          "text": [
            "140/140 [==============================] - 93s 620ms/step - loss: 51.3774\n"
          ]
        },
        {
          "output_type": "execute_result",
          "data": {
            "text/plain": [
              "<keras.callbacks.History at 0x7f778c15ff70>"
            ]
          },
          "metadata": {},
          "execution_count": 8
        }
      ]
    },
    {
      "cell_type": "code",
      "source": [
        "#!pip install livelossplot --quiet"
      ],
      "metadata": {
        "id": "p5XF1T2QQNTt"
      },
      "execution_count": null,
      "outputs": []
    },
    {
      "cell_type": "markdown",
      "source": [
        "Now we can try using the VGG model"
      ],
      "metadata": {
        "id": "2ckEjSHU8oE8"
      }
    },
    {
      "cell_type": "code",
      "source": [
        "'''VGG base model'''\n",
        "base_model1 = VGG16(weights='imagenet', include_top=False, input_shape=(224, 224, 3))\n",
        "#freeze layers\n",
        "for layer in base_model1.layers:\n",
        "    layer.trainable = False\n",
        "\n",
        "top_model = base_model1.output\n",
        "#top_model = Flatten(name=\"flatten\")(top_model)\n",
        "top_model = GlobalAveragePooling2D()(top_model)\n",
        "top_model = Dense(4096, activation='relu')(top_model)\n",
        "top_model = Dropout(0.2)(top_model)\n",
        "top_model = Dense(2048, activation='relu')(top_model)\n",
        "top_model = Dropout(0.2)(top_model)\n",
        "top_model = Dense(1024, activation='relu')(top_model)\n",
        "top_model = Dropout(0.2)(top_model)\n",
        "output_layer = Dense(1, activation='linear')(top_model)\n",
        "\n",
        "vgg_model = Model(inputs=base_model1.input, outputs=output_layer)\n",
        "vgg_model.compile(optimizer='adam', loss='mse')\n",
        "#model.summary()"
      ],
      "metadata": {
        "id": "8eq_DMtP86b5"
      },
      "execution_count": 18,
      "outputs": []
    },
    {
      "cell_type": "markdown",
      "source": [
        "We can modify the datagenerators to include the preprocessing from VGG"
      ],
      "metadata": {
        "id": "MRpjFQt99kyH"
      }
    },
    {
      "cell_type": "code",
      "source": [
        "train_datagen = ImageDataGenerator(\n",
        "                    preprocessing_function=preprocess_input,\n",
        "                    rescale = 1./255,\n",
        "                    horizontal_flip=True,\n",
        "                    vertical_flip=True,\n",
        "                    fill_mode='nearest')\n",
        "\n",
        "train_generator = train_datagen.flow_from_dataframe(dataframe=train_df, \n",
        "                                                      directory=train_data_dir, \n",
        "                                                      x_col=\"filename\", y_col=\"label\", has_ext=True, \n",
        "                                                      class_mode=\"raw\", target_size=(1024, 1024), \n",
        "                                                      batch_size=BATCH_SIZE)\n",
        "\n",
        "validation_datagen = ImageDataGenerator(preprocessing_function=preprocess_input,rescale = 1./255)\n",
        "\n",
        "val_generator = validation_datagen.flow_from_dataframe(dataframe=val_df, \n",
        "                                                      directory=val_data_dir,\n",
        "                                                      x_col=\"filename\", y_col=\"label\", has_ext=True,\n",
        "                                                      class_mode=\"raw\", target_size=(1024,1024),\n",
        "                                                      batch_size=BATCH_SIZE)\n",
        "#https://stackoverflow.com/questions/64978209/valueerror-when-trying-to-execute-model-fit-failed-to-convert-a-numpy-array/\n",
        "train_generator._targets = np.stack(train_generator._targets)\n",
        "val_generator._targets = np.stack(val_generator._targets)"
      ],
      "metadata": {
        "colab": {
          "base_uri": "https://localhost:8080/"
        },
        "id": "OYDTAqfR9qTN",
        "outputId": "21a60498-b770-4fcf-e4fa-70f26a1ee28f"
      },
      "execution_count": 23,
      "outputs": [
        {
          "output_type": "stream",
          "name": "stdout",
          "text": [
            "Found 1400 validated image filenames.\n",
            "Found 200 validated image filenames.\n"
          ]
        }
      ]
    },
    {
      "cell_type": "code",
      "source": [
        "BATCH_SIZE = 8\n",
        "input_shape = (1024, 1024, 3)\n",
        "optim_1 = tensorflow.keras.optimizers.Adam(learning_rate=0.001)\n",
        "\n",
        "n_steps = train_generator.samples // BATCH_SIZE\n",
        "n_val_steps = val_generator.samples // BATCH_SIZE\n",
        "n_epochs = 50"
      ],
      "metadata": {
        "id": "ceYrGgXEPiEz"
      },
      "execution_count": 20,
      "outputs": []
    },
    {
      "cell_type": "code",
      "source": [
        "from livelossplot.inputs.keras import PlotLossesCallback\n",
        "from keras.callbacks import ModelCheckpoint, EarlyStopping\n",
        "\n",
        "plot_loss_1 = PlotLossesCallback()\n",
        "\n",
        "# ModelCheckpoint callback - save best weights\n",
        "tl_checkpoint_1 = ModelCheckpoint(filepath='tl_model_v1.weights.best.hdf5',\n",
        "                                  save_best_only=True,\n",
        "                                  verbose=1)\n",
        "\n",
        "# EarlyStopping\n",
        "early_stop = EarlyStopping(monitor='val_loss',\n",
        "                           patience=2,\n",
        "                           restore_best_weights=True,\n",
        "                           mode='min')"
      ],
      "metadata": {
        "id": "KM3dy79fP4ay"
      },
      "execution_count": 24,
      "outputs": []
    },
    {
      "cell_type": "code",
      "source": [
        "vgg_history = vgg_model.fit(train_generator,\n",
        "                            batch_size=BATCH_SIZE,\n",
        "                            epochs=n_epochs,\n",
        "                            validation_data=val_generator,\n",
        "                            steps_per_epoch=n_steps,\n",
        "                            validation_steps=n_val_steps,\n",
        "                            callbacks=[tl_checkpoint_1, early_stop, plot_loss_1],\n",
        "                            verbose=1)"
      ],
      "metadata": {
        "id": "OELvQ-tmQcai",
        "colab": {
          "base_uri": "https://localhost:8080/",
          "height": 1000
        },
        "outputId": "d3092bfa-3583-4168-93ea-9be35acf3b05"
      },
      "execution_count": 25,
      "outputs": [
        {
          "output_type": "display_data",
          "data": {
            "text/plain": [
              "<Figure size 864x576 with 2 Axes>"
            ],
            "image/png": "[encoded data removed]"
          },
          "metadata": {
            "needs_background": "light"
          }
        },
        {
          "output_type": "stream",
          "name": "stdout",
          "text": [
            "Loss\n",
            "\ttraining         \t (min:    3.616, max:    3.616, cur:    3.616)\n",
            "\tvalidation       \t (min:    0.149, max:    0.149, cur:    0.149)\n",
            "\b\b\b\b\b\b\b\b\b\b\b\b\b\b\b\b\b\b\b\b\b\b\b\b\b\b\b\b\b\b\b\b\b\b\b\b\b\b\b\b\b\b\b\b\b\b\b\b\b\b\b\b\b\b\b\b\b\b\b\b\b\b\b\b\b\r175/175 [==============================] - 193s 1s/step - loss: 3.6160 - val_loss: 0.1488\n",
            "Epoch 2/50\n",
            "128/175 [====================>.........] - ETA: 42s - loss: 0.4676"
          ]
        },
        {
          "output_type": "error",
          "ename": "KeyboardInterrupt",
          "evalue": "ignored",
          "traceback": [
            "\u001b[0;31m---------------------------------------------------------------------------\u001b[0m",
            "\u001b[0;31mKeyboardInterrupt\u001b[0m                         Traceback (most recent call last)",
            "\u001b[0;32m<ipython-input-25-fc39f8d280b2>\u001b[0m in \u001b[0;36m<module>\u001b[0;34m\u001b[0m\n\u001b[0;32m----> 1\u001b[0;31m vgg_history = vgg_model.fit(train_generator,\n\u001b[0m\u001b[1;32m      2\u001b[0m                             \u001b[0mbatch_size\u001b[0m\u001b[0;34m=\u001b[0m\u001b[0mBATCH_SIZE\u001b[0m\u001b[0;34m,\u001b[0m\u001b[0;34m\u001b[0m\u001b[0;34m\u001b[0m\u001b[0m\n\u001b[1;32m      3\u001b[0m                             \u001b[0mepochs\u001b[0m\u001b[0;34m=\u001b[0m\u001b[0mn_epochs\u001b[0m\u001b[0;34m,\u001b[0m\u001b[0;34m\u001b[0m\u001b[0;34m\u001b[0m\u001b[0m\n\u001b[1;32m      4\u001b[0m                             \u001b[0mvalidation_data\u001b[0m\u001b[0;34m=\u001b[0m\u001b[0mval_generator\u001b[0m\u001b[0;34m,\u001b[0m\u001b[0;34m\u001b[0m\u001b[0;34m\u001b[0m\u001b[0m\n\u001b[1;32m      5\u001b[0m                             \u001b[0msteps_per_epoch\u001b[0m\u001b[0;34m=\u001b[0m\u001b[0mn_steps\u001b[0m\u001b[0;34m,\u001b[0m\u001b[0;34m\u001b[0m\u001b[0;34m\u001b[0m\u001b[0m\n",
            "\u001b[0;32m/usr/local/lib/python3.8/dist-packages/keras/utils/traceback_utils.py\u001b[0m in \u001b[0;36merror_handler\u001b[0;34m(*args, **kwargs)\u001b[0m\n\u001b[1;32m     63\u001b[0m         \u001b[0mfiltered_tb\u001b[0m \u001b[0;34m=\u001b[0m \u001b[0;32mNone\u001b[0m\u001b[0;34m\u001b[0m\u001b[0;34m\u001b[0m\u001b[0m\n\u001b[1;32m     64\u001b[0m         \u001b[0;32mtry\u001b[0m\u001b[0;34m:\u001b[0m\u001b[0;34m\u001b[0m\u001b[0;34m\u001b[0m\u001b[0m\n\u001b[0;32m---> 65\u001b[0;31m             \u001b[0;32mreturn\u001b[0m \u001b[0mfn\u001b[0m\u001b[0;34m(\u001b[0m\u001b[0;34m*\u001b[0m\u001b[0margs\u001b[0m\u001b[0;34m,\u001b[0m \u001b[0;34m**\u001b[0m\u001b[0mkwargs\u001b[0m\u001b[0;34m)\u001b[0m\u001b[0;34m\u001b[0m\u001b[0;34m\u001b[0m\u001b[0m\n\u001b[0m\u001b[1;32m     66\u001b[0m         \u001b[0;32mexcept\u001b[0m \u001b[0mException\u001b[0m \u001b[0;32mas\u001b[0m \u001b[0me\u001b[0m\u001b[0;34m:\u001b[0m\u001b[0;34m\u001b[0m\u001b[0;34m\u001b[0m\u001b[0m\n\u001b[1;32m     67\u001b[0m             \u001b[0mfiltered_tb\u001b[0m \u001b[0;34m=\u001b[0m \u001b[0m_process_traceback_frames\u001b[0m\u001b[0;34m(\u001b[0m\u001b[0me\u001b[0m\u001b[0;34m.\u001b[0m\u001b[0m__traceback__\u001b[0m\u001b[0;34m)\u001b[0m\u001b[0;34m\u001b[0m\u001b[0;34m\u001b[0m\u001b[0m\n",
            "\u001b[0;32m/usr/local/lib/python3.8/dist-packages/keras/engine/training.py\u001b[0m in \u001b[0;36mfit\u001b[0;34m(self, x, y, batch_size, epochs, verbose, callbacks, validation_split, validation_data, shuffle, class_weight, sample_weight, initial_epoch, steps_per_epoch, validation_steps, validation_batch_size, validation_freq, max_queue_size, workers, use_multiprocessing)\u001b[0m\n\u001b[1;32m   1648\u001b[0m                         ):\n\u001b[1;32m   1649\u001b[0m                             \u001b[0mcallbacks\u001b[0m\u001b[0;34m.\u001b[0m\u001b[0mon_train_batch_begin\u001b[0m\u001b[0;34m(\u001b[0m\u001b[0mstep\u001b[0m\u001b[0;34m)\u001b[0m\u001b[0;34m\u001b[0m\u001b[0;34m\u001b[0m\u001b[0m\n\u001b[0;32m-> 1650\u001b[0;31m                             \u001b[0mtmp_logs\u001b[0m \u001b[0;34m=\u001b[0m \u001b[0mself\u001b[0m\u001b[0;34m.\u001b[0m\u001b[0mtrain_function\u001b[0m\u001b[0;34m(\u001b[0m\u001b[0miterator\u001b[0m\u001b[0;34m)\u001b[0m\u001b[0;34m\u001b[0m\u001b[0;34m\u001b[0m\u001b[0m\n\u001b[0m\u001b[1;32m   1651\u001b[0m                             \u001b[0;32mif\u001b[0m \u001b[0mdata_handler\u001b[0m\u001b[0;34m.\u001b[0m\u001b[0mshould_sync\u001b[0m\u001b[0;34m:\u001b[0m\u001b[0;34m\u001b[0m\u001b[0;34m\u001b[0m\u001b[0m\n\u001b[1;32m   1652\u001b[0m                                 \u001b[0mcontext\u001b[0m\u001b[0;34m.\u001b[0m\u001b[0masync_wait\u001b[0m\u001b[0;34m(\u001b[0m\u001b[0;34m)\u001b[0m\u001b[0;34m\u001b[0m\u001b[0;34m\u001b[0m\u001b[0m\n",
            "\u001b[0;32m/usr/local/lib/python3.8/dist-packages/tensorflow/python/util/traceback_utils.py\u001b[0m in \u001b[0;36merror_handler\u001b[0;34m(*args, **kwargs)\u001b[0m\n\u001b[1;32m    148\u001b[0m     \u001b[0mfiltered_tb\u001b[0m \u001b[0;34m=\u001b[0m \u001b[0;32mNone\u001b[0m\u001b[0;34m\u001b[0m\u001b[0;34m\u001b[0m\u001b[0m\n\u001b[1;32m    149\u001b[0m     \u001b[0;32mtry\u001b[0m\u001b[0;34m:\u001b[0m\u001b[0;34m\u001b[0m\u001b[0;34m\u001b[0m\u001b[0m\n\u001b[0;32m--> 150\u001b[0;31m       \u001b[0;32mreturn\u001b[0m \u001b[0mfn\u001b[0m\u001b[0;34m(\u001b[0m\u001b[0;34m*\u001b[0m\u001b[0margs\u001b[0m\u001b[0;34m,\u001b[0m \u001b[0;34m**\u001b[0m\u001b[0mkwargs\u001b[0m\u001b[0;34m)\u001b[0m\u001b[0;34m\u001b[0m\u001b[0;34m\u001b[0m\u001b[0m\n\u001b[0m\u001b[1;32m    151\u001b[0m     \u001b[0;32mexcept\u001b[0m \u001b[0mException\u001b[0m \u001b[0;32mas\u001b[0m \u001b[0me\u001b[0m\u001b[0;34m:\u001b[0m\u001b[0;34m\u001b[0m\u001b[0;34m\u001b[0m\u001b[0m\n\u001b[1;32m    152\u001b[0m       \u001b[0mfiltered_tb\u001b[0m \u001b[0;34m=\u001b[0m \u001b[0m_process_traceback_frames\u001b[0m\u001b[0;34m(\u001b[0m\u001b[0me\u001b[0m\u001b[0;34m.\u001b[0m\u001b[0m__traceback__\u001b[0m\u001b[0;34m)\u001b[0m\u001b[0;34m\u001b[0m\u001b[0;34m\u001b[0m\u001b[0m\n",
            "\u001b[0;32m/usr/local/lib/python3.8/dist-packages/tensorflow/python/eager/polymorphic_function/polymorphic_function.py\u001b[0m in \u001b[0;36m__call__\u001b[0;34m(self, *args, **kwds)\u001b[0m\n\u001b[1;32m    878\u001b[0m \u001b[0;34m\u001b[0m\u001b[0m\n\u001b[1;32m    879\u001b[0m       \u001b[0;32mwith\u001b[0m \u001b[0mOptionalXlaContext\u001b[0m\u001b[0;34m(\u001b[0m\u001b[0mself\u001b[0m\u001b[0;34m.\u001b[0m\u001b[0m_jit_compile\u001b[0m\u001b[0;34m)\u001b[0m\u001b[0;34m:\u001b[0m\u001b[0;34m\u001b[0m\u001b[0;34m\u001b[0m\u001b[0m\n\u001b[0;32m--> 880\u001b[0;31m         \u001b[0mresult\u001b[0m \u001b[0;34m=\u001b[0m \u001b[0mself\u001b[0m\u001b[0;34m.\u001b[0m\u001b[0m_call\u001b[0m\u001b[0;34m(\u001b[0m\u001b[0;34m*\u001b[0m\u001b[0margs\u001b[0m\u001b[0;34m,\u001b[0m \u001b[0;34m**\u001b[0m\u001b[0mkwds\u001b[0m\u001b[0;34m)\u001b[0m\u001b[0;34m\u001b[0m\u001b[0;34m\u001b[0m\u001b[0m\n\u001b[0m\u001b[1;32m    881\u001b[0m \u001b[0;34m\u001b[0m\u001b[0m\n\u001b[1;32m    882\u001b[0m       \u001b[0mnew_tracing_count\u001b[0m \u001b[0;34m=\u001b[0m \u001b[0mself\u001b[0m\u001b[0;34m.\u001b[0m\u001b[0mexperimental_get_tracing_count\u001b[0m\u001b[0;34m(\u001b[0m\u001b[0;34m)\u001b[0m\u001b[0;34m\u001b[0m\u001b[0;34m\u001b[0m\u001b[0m\n",
            "\u001b[0;32m/usr/local/lib/python3.8/dist-packages/tensorflow/python/eager/polymorphic_function/polymorphic_function.py\u001b[0m in \u001b[0;36m_call\u001b[0;34m(self, *args, **kwds)\u001b[0m\n\u001b[1;32m    910\u001b[0m       \u001b[0;31m# In this case we have created variables on the first call, so we run the\u001b[0m\u001b[0;34m\u001b[0m\u001b[0;34m\u001b[0m\u001b[0;34m\u001b[0m\u001b[0m\n\u001b[1;32m    911\u001b[0m       \u001b[0;31m# defunned version which is guaranteed to never create variables.\u001b[0m\u001b[0;34m\u001b[0m\u001b[0;34m\u001b[0m\u001b[0;34m\u001b[0m\u001b[0m\n\u001b[0;32m--> 912\u001b[0;31m       \u001b[0;32mreturn\u001b[0m \u001b[0mself\u001b[0m\u001b[0;34m.\u001b[0m\u001b[0m_no_variable_creation_fn\u001b[0m\u001b[0;34m(\u001b[0m\u001b[0;34m*\u001b[0m\u001b[0margs\u001b[0m\u001b[0;34m,\u001b[0m \u001b[0;34m**\u001b[0m\u001b[0mkwds\u001b[0m\u001b[0;34m)\u001b[0m  \u001b[0;31m# pylint: disable=not-callable\u001b[0m\u001b[0;34m\u001b[0m\u001b[0;34m\u001b[0m\u001b[0m\n\u001b[0m\u001b[1;32m    913\u001b[0m     \u001b[0;32melif\u001b[0m \u001b[0mself\u001b[0m\u001b[0;34m.\u001b[0m\u001b[0m_variable_creation_fn\u001b[0m \u001b[0;32mis\u001b[0m \u001b[0;32mnot\u001b[0m \u001b[0;32mNone\u001b[0m\u001b[0;34m:\u001b[0m\u001b[0;34m\u001b[0m\u001b[0;34m\u001b[0m\u001b[0m\n\u001b[1;32m    914\u001b[0m       \u001b[0;31m# Release the lock early so that multiple threads can perform the call\u001b[0m\u001b[0;34m\u001b[0m\u001b[0;34m\u001b[0m\u001b[0;34m\u001b[0m\u001b[0m\n",
            "\u001b[0;32m/usr/local/lib/python3.8/dist-packages/tensorflow/python/eager/polymorphic_function/tracing_compiler.py\u001b[0m in \u001b[0;36m__call__\u001b[0;34m(self, *args, **kwargs)\u001b[0m\n\u001b[1;32m    132\u001b[0m       (concrete_function,\n\u001b[1;32m    133\u001b[0m        filtered_flat_args) = self._maybe_define_function(args, kwargs)\n\u001b[0;32m--> 134\u001b[0;31m     return concrete_function._call_flat(\n\u001b[0m\u001b[1;32m    135\u001b[0m         filtered_flat_args, captured_inputs=concrete_function.captured_inputs)  # pylint: disable=protected-access\n\u001b[1;32m    136\u001b[0m \u001b[0;34m\u001b[0m\u001b[0m\n",
            "\u001b[0;32m/usr/local/lib/python3.8/dist-packages/tensorflow/python/eager/polymorphic_function/monomorphic_function.py\u001b[0m in \u001b[0;36m_call_flat\u001b[0;34m(self, args, captured_inputs, cancellation_manager)\u001b[0m\n\u001b[1;32m   1743\u001b[0m         and executing_eagerly):\n\u001b[1;32m   1744\u001b[0m       \u001b[0;31m# No tape is watching; skip to running the function.\u001b[0m\u001b[0;34m\u001b[0m\u001b[0;34m\u001b[0m\u001b[0;34m\u001b[0m\u001b[0m\n\u001b[0;32m-> 1745\u001b[0;31m       return self._build_call_outputs(self._inference_function.call(\n\u001b[0m\u001b[1;32m   1746\u001b[0m           ctx, args, cancellation_manager=cancellation_manager))\n\u001b[1;32m   1747\u001b[0m     forward_backward = self._select_forward_and_backward_functions(\n",
            "\u001b[0;32m/usr/local/lib/python3.8/dist-packages/tensorflow/python/eager/polymorphic_function/monomorphic_function.py\u001b[0m in \u001b[0;36mcall\u001b[0;34m(self, ctx, args, cancellation_manager)\u001b[0m\n\u001b[1;32m    376\u001b[0m       \u001b[0;32mwith\u001b[0m \u001b[0m_InterpolateFunctionError\u001b[0m\u001b[0;34m(\u001b[0m\u001b[0mself\u001b[0m\u001b[0;34m)\u001b[0m\u001b[0;34m:\u001b[0m\u001b[0;34m\u001b[0m\u001b[0;34m\u001b[0m\u001b[0m\n\u001b[1;32m    377\u001b[0m         \u001b[0;32mif\u001b[0m \u001b[0mcancellation_manager\u001b[0m \u001b[0;32mis\u001b[0m \u001b[0;32mNone\u001b[0m\u001b[0;34m:\u001b[0m\u001b[0;34m\u001b[0m\u001b[0;34m\u001b[0m\u001b[0m\n\u001b[0;32m--> 378\u001b[0;31m           outputs = execute.execute(\n\u001b[0m\u001b[1;32m    379\u001b[0m               \u001b[0mstr\u001b[0m\u001b[0;34m(\u001b[0m\u001b[0mself\u001b[0m\u001b[0;34m.\u001b[0m\u001b[0msignature\u001b[0m\u001b[0;34m.\u001b[0m\u001b[0mname\u001b[0m\u001b[0;34m)\u001b[0m\u001b[0;34m,\u001b[0m\u001b[0;34m\u001b[0m\u001b[0;34m\u001b[0m\u001b[0m\n\u001b[1;32m    380\u001b[0m               \u001b[0mnum_outputs\u001b[0m\u001b[0;34m=\u001b[0m\u001b[0mself\u001b[0m\u001b[0;34m.\u001b[0m\u001b[0m_num_outputs\u001b[0m\u001b[0;34m,\u001b[0m\u001b[0;34m\u001b[0m\u001b[0;34m\u001b[0m\u001b[0m\n",
            "\u001b[0;32m/usr/local/lib/python3.8/dist-packages/tensorflow/python/eager/execute.py\u001b[0m in \u001b[0;36mquick_execute\u001b[0;34m(op_name, num_outputs, inputs, attrs, ctx, name)\u001b[0m\n\u001b[1;32m     50\u001b[0m   \u001b[0;32mtry\u001b[0m\u001b[0;34m:\u001b[0m\u001b[0;34m\u001b[0m\u001b[0;34m\u001b[0m\u001b[0m\n\u001b[1;32m     51\u001b[0m     \u001b[0mctx\u001b[0m\u001b[0;34m.\u001b[0m\u001b[0mensure_initialized\u001b[0m\u001b[0;34m(\u001b[0m\u001b[0;34m)\u001b[0m\u001b[0;34m\u001b[0m\u001b[0;34m\u001b[0m\u001b[0m\n\u001b[0;32m---> 52\u001b[0;31m     tensors = pywrap_tfe.TFE_Py_Execute(ctx._handle, device_name, op_name,\n\u001b[0m\u001b[1;32m     53\u001b[0m                                         inputs, attrs, num_outputs)\n\u001b[1;32m     54\u001b[0m   \u001b[0;32mexcept\u001b[0m \u001b[0mcore\u001b[0m\u001b[0;34m.\u001b[0m\u001b[0m_NotOkStatusException\u001b[0m \u001b[0;32mas\u001b[0m \u001b[0me\u001b[0m\u001b[0;34m:\u001b[0m\u001b[0;34m\u001b[0m\u001b[0;34m\u001b[0m\u001b[0m\n",
            "\u001b[0;31mKeyboardInterrupt\u001b[0m: "
          ]
        }
      ]
    },
    {
      "cell_type": "code",
      "source": [],
      "metadata": {
        "id": "BVT0fX83-X_a"
      },
      "execution_count": null,
      "outputs": []
    }
  ],
  "metadata": {
    "accelerator": "GPU",
    "colab": {
      "provenance": []
    },
    "gpuClass": "standard",
    "kernelspec": {
      "display_name": "Python 3",
      "name": "python3"
    },
    "language_info": {
      "name": "python"
    }
  },
  "nbformat": 4,
  "nbformat_minor": 0
}