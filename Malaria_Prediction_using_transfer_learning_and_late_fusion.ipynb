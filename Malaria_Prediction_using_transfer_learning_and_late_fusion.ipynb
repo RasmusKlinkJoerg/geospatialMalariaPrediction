{
 "nbformat": 4,
 "nbformat_minor": 0,
 "metadata": {
  "colab": {
   "provenance": []
  },
  "kernelspec": {
   "name": "python3",
   "display_name": "Python 3"
  },
  "language_info": {
   "name": "python"
  },
  "accelerator": "GPU",
  "gpuClass": "standard"
 },
 "cells": [
  {
   "cell_type": "markdown",
   "source": [
    "# Setup "
   ],
   "metadata": {
    "id": "TD7seO22cOo3"
   }
  },
  {
   "cell_type": "code",
   "execution_count": 59,
   "metadata": {
    "id": "G0oqLyCebwZR"
   },
   "outputs": [],
   "source": [
    "import tensorflow\n",
    "from tensorflow import keras\n",
    "from keras.datasets import mnist\n",
    "from keras import backend as K\n",
    "from matplotlib import pyplot as plt\n",
    "from keras.models import Sequential, Model\n",
    "from keras.layers import Dense, Flatten, Activation, BatchNormalization, Conv2D, MaxPooling2D, Input, Dropout, GlobalAveragePooling2D,concatenate\n",
    "from PIL import Image\n",
    "import numpy as np\n",
    "import PIL.ImageOps \n",
    "import csv\n",
    "import zipfile\n",
    "import os\n",
    "import cv2\n",
    "from natsort import natsorted\n",
    "from keras.applications.vgg16 import VGG16, preprocess_input\n",
    "from keras.preprocessing.image import ImageDataGenerator\n",
    "import pandas as pd\n",
    "from keras.utils.vis_utils import plot_model"
   ]
  },
  {
   "cell_type": "code",
   "source": [
    "!pip install split-folders --quiet"
   ],
   "metadata": {
    "id": "zvJuMmdmdIjY"
   },
   "execution_count": 2,
   "outputs": []
  },
  {
   "cell_type": "markdown",
   "source": [
    "Mount to Google Drive folder. Make sure the folder `malaria_project` is inside `MyDrive`. If it is in `shared with me` right click and make a shortcut to `MyDrive`. "
   ],
   "metadata": {
    "id": "kmsm-rP-cRLb"
   }
  },
  {
   "cell_type": "code",
   "source": [
    "from google.colab import drive\n",
    "drive.mount('/content/drive')"
   ],
   "metadata": {
    "colab": {
     "base_uri": "https://localhost:8080/"
    },
    "id": "YMitYht2b_FW",
    "outputId": "5415f5b8-d745-4997-bfc9-a55bcef998fe"
   },
   "execution_count": 10,
   "outputs": [
    {
     "output_type": "stream",
     "name": "stdout",
     "text": [
      "Drive already mounted at /content/drive; to attempt to forcibly remount, call drive.mount(\"/content/drive\", force_remount=True).\n"
     ]
    }
   ]
  },
  {
   "cell_type": "markdown",
   "source": [
    "Variables:"
   ],
   "metadata": {
    "id": "JTA6Wnw8gob2"
   }
  },
  {
   "cell_type": "code",
   "source": [
    "BATCH_SIZE=32\n",
    "EPOCHS = 5"
   ],
   "metadata": {
    "id": "Fw0Ax-dVgpbD"
   },
   "execution_count": 133,
   "outputs": []
  },
  {
   "cell_type": "markdown",
   "source": [
    "### Setting up the satellite data\n",
    "First we split the satellite images into `test`,`train`, and `validation` folders"
   ],
   "metadata": {
    "id": "ttLY2JA6dL68"
   }
  },
  {
   "cell_type": "markdown",
   "source": [
    "# TODO: Change it such that the entire satellite folder is within malaria_project"
   ],
   "metadata": {
    "id": "HbwTloWkdptC"
   }
  },
  {
   "cell_type": "code",
   "source": [
    "import splitfolders\n",
    "splitfolders.ratio(\"/content/drive/MyDrive/x_data/x2\", output=\"output\",\n",
    "    seed=1337, ratio=(.7, .2, .1), group_prefix=None, move=False) # (train:validation:test)\n"
   ],
   "metadata": {
    "colab": {
     "base_uri": "https://localhost:8080/"
    },
    "id": "SN2NstqCb_pL",
    "outputId": "8deb4f6f-759e-46c7-fd0c-ae75ffdab3a6"
   },
   "execution_count": 5,
   "outputs": [
    {
     "output_type": "stream",
     "name": "stderr",
     "text": [
      "Copying files: 5133 files [03:10, 26.97 files/s] \n"
     ]
    }
   ]
  },
  {
   "cell_type": "markdown",
   "source": [
    "As we are going to use `DataFrames` to our `ImageDataGenerators` we need to create them such that the entire filename is the `x_col` entry, and we can access the label. It is required that the name of the entry in `x_col` has the exact same name as the satellite image in order to match them."
   ],
   "metadata": {
    "id": "WLARtQEVdxLe"
   }
  },
  {
   "cell_type": "code",
   "source": [
    "'''\n",
    "This function is responsible for creating the dataframe containing the labels and image data\n",
    "'''\n",
    "def createDataFrame(label_dir, data_dir, ending=True):\n",
    "  #Retrieve the filenames and ids.\n",
    "  filenames = []\n",
    "  ids = []\n",
    "  for file in os.listdir(data_dir):\n",
    "    if file == \".DS_Store\":\n",
    "      continue\n",
    "    filenames.append(file)\n",
    "    if ending:\n",
    "      ids.append(file.split(\"_\")[0])\n",
    "    else:\n",
    "      ids.append(file.split(\".\")[0])\n",
    "  #Create empty DataFrame\n",
    "  df = pd.DataFrame()\n",
    "  #Append the data\n",
    "  df['filename'] = filenames\n",
    "  df['id'] = ids\n",
    "\n",
    "  #Append the labels\n",
    "  start_list = []\n",
    "  with open(label_dir) as csv_file:\n",
    "    csv_reader = csv.reader(csv_file, delimiter=',')\n",
    "    for i,line in enumerate(csv_reader):\n",
    "      #print(line[0])\n",
    "      id = line[0]\n",
    "      pr = line[4]\n",
    "      for img in filenames:\n",
    "        if ending:\n",
    "          img_id = img.split('_')[0]\n",
    "        else:\n",
    "          img_id = img.split(\".\")[0]\n",
    "          \n",
    "        if img_id == id:\n",
    "          index = np.where(df[\"filename\"] == img)\n",
    "          start_list.append(float(pr))\n",
    "    df['label'] = start_list\n",
    "  return df.sort_values(by='id')"
   ],
   "metadata": {
    "id": "YZrycCfqdxrq"
   },
   "execution_count": 6,
   "outputs": []
  },
  {
   "cell_type": "markdown",
   "source": [
    "Creating the `DataFrames`"
   ],
   "metadata": {
    "id": "62P2Oh4zeq2a"
   }
  },
  {
   "cell_type": "code",
   "source": [
    "train_data_dir = 'output/train/satellite_data_v2'\n",
    "test_data_dir = 'output/test/satellite_data_v2'\n",
    "val_data_dir = 'output/val/satellite_data_v2'\n",
    "label_dir = '/content/drive/MyDrive/malaria_project/long_lat_year_with_confidential_from2010to18_size10orGreater.csv'\n",
    "train_df = createDataFrame(label_dir=label_dir, data_dir=train_data_dir)\n",
    "test_df = createDataFrame(label_dir=label_dir, data_dir=test_data_dir)\n",
    "val_df = createDataFrame(label_dir=label_dir, data_dir=val_data_dir)"
   ],
   "metadata": {
    "id": "cMMMPQ46eocT"
   },
   "execution_count": 11,
   "outputs": []
  },
  {
   "cell_type": "markdown",
   "source": [
    "### Setting up the landcover data"
   ],
   "metadata": {
    "id": "UBBv_FFye2b9"
   }
  },
  {
   "cell_type": "code",
   "source": [
    "'''Finding the names of the files that needs to be copied'''\n",
    "x_names = []\n",
    "for file_name in os.listdir(\"/content/drive/MyDrive/x_data/x2/satellite_data_v2\"):\n",
    "  x_names.append(file_name.split(\"_\")[0])"
   ],
   "metadata": {
    "id": "7C_O749heuqn"
   },
   "execution_count": 12,
   "outputs": []
  },
  {
   "cell_type": "code",
   "source": [
    "'''Loops through the images and copies the corresponding land cover'''\n",
    "import os\n",
    "import shutil\n",
    "\n",
    "source_folder = r\"/content/drive/MyDrive/malaria_project/landcover_with_confi_2010_2018_size10andGreater\"\n",
    "if not os.path.exists('landcover_full'):\n",
    "   os.makedirs('landcover_full')\n",
    "destination_folder = r\"landcover_full\"\n",
    "\n",
    "for file_name in os.listdir(source_folder):\n",
    "  for x_name in x_names:\n",
    "    if file_name.split(\".\")[0] == x_name:\n",
    "      source = source_folder + \"/\"+ file_name\n",
    "      destination = destination_folder + \"/\" + file_name\n",
    "      shutil.copy(source, destination)"
   ],
   "metadata": {
    "id": "oHL8-wQlfRGo"
   },
   "execution_count": 13,
   "outputs": []
  },
  {
   "cell_type": "markdown",
   "source": [
    "# TODO: Fix such that the landcover images has the correct size"
   ],
   "metadata": {
    "id": "4Fla6dTrfgqO"
   }
  },
  {
   "cell_type": "code",
   "source": [
    "#crop the landcovers\n",
    "for i,image in enumerate(os.listdir(\"landcover_full\")):\n",
    "    if image == \".DS_Store\" or image ==\".ipynb_checkpoints\":\n",
    "        continue\n",
    "    img = Image.open(\"landcover_full/\"+image)\n",
    "    if img.size != (8, 8):\n",
    "      img = img.resize((8,8))\n",
    "      img.save('landcover_full/'+image, 'TIFF')\n"
   ],
   "metadata": {
    "id": "I7hi6H26fk_X"
   },
   "execution_count": 14,
   "outputs": []
  },
  {
   "cell_type": "markdown",
   "source": [
    "As we have the images locally we can split it into folders. First we create all the directories and then we copy the images into the correct ones, according to the satellite data. "
   ],
   "metadata": {
    "id": "af2HHpb8f0WD"
   }
  },
  {
   "cell_type": "code",
   "source": [
    "#create the directories\n",
    "if not os.path.exists('output_landcover/train/landcover'):\n",
    "  os.makedirs('output_landcover/train/landcover')\n",
    "if not os.path.exists('output_landcover/test/landcover'):\n",
    "  os.makedirs('output_landcover/test/landcover')\n",
    "if not os.path.exists('output_landcover/val/landcover'):\n",
    "  os.makedirs('output_landcover/val/landcover')"
   ],
   "metadata": {
    "id": "mKzhLVD7f1lo"
   },
   "execution_count": 175,
   "outputs": []
  },
  {
   "cell_type": "code",
   "source": [
    "'''Copies the files from the landcover directory to the correct splitted folders'''\n",
    "def copyfiles(dir, src_dir, dest_dir):\n",
    "  for file_name in os.listdir(dir):\n",
    "    file_name_no_coords = file_name.split(\"_\")[0]\n",
    "    source = src_dir + file_name_no_coords + \".tiff\"\n",
    "    destination = dest_dir + file_name_no_coords + \".tiff\"\n",
    "    shutil.copy(source, destination)\n",
    "  \n",
    "copyfiles(dir=\"output/test/satellite_data_v2\", src_dir=\"landcover_full/\", dest_dir=\"output_landcover/test/landcover/\")\n",
    "copyfiles(dir=\"output/train/satellite_data_v2\", src_dir=\"landcover_full/\", dest_dir=\"output_landcover/train/landcover/\")\n",
    "copyfiles(dir=\"output/val/satellite_data_v2\", src_dir=\"landcover_full/\", dest_dir=\"output_landcover/val/landcover/\")"
   ],
   "metadata": {
    "id": "XMqp-SVrgDPz"
   },
   "execution_count": 16,
   "outputs": []
  },
  {
   "cell_type": "markdown",
   "source": [
    "Lastly we can create the `DataFrames`"
   ],
   "metadata": {
    "id": "0zK6LaligXrp"
   }
  },
  {
   "cell_type": "code",
   "source": [
    "train_data_dir_landcover = 'output_landcover/train/landcover'\n",
    "test_data_dir_landcover = 'output_landcover/test/landcover'\n",
    "val_data_dir_landcover = 'output_landcover/val/landcover'\n",
    "label_dir_landcover = '/content/drive/MyDrive/malaria_project/long_lat_year_with_confidential_from2010to18_size10orGreater.csv'\n",
    "train_landcover_df = createDataFrame(label_dir=label_dir_landcover, data_dir=train_data_dir_landcover, ending=False)\n",
    "test_landcover_df = createDataFrame(label_dir=label_dir_landcover, data_dir=test_data_dir_landcover, ending=False)\n",
    "val_landcover_df = createDataFrame(label_dir=label_dir_landcover, data_dir=val_data_dir_landcover, ending=False)"
   ],
   "metadata": {
    "id": "aMmYuLq_gHtK"
   },
   "execution_count": 17,
   "outputs": []
  },
  {
   "cell_type": "markdown",
   "source": [
    "### Setting up the precipitation data"
   ],
   "metadata": {
    "id": "BMkcdhxJx5Mk"
   }
  },
  {
   "cell_type": "code",
   "source": [
    "precipitation_dir = '/content/drive/MyDrive/malaria_project/precipitation_cropped_snips_with_confi_2010_2018_size10andGreater'"
   ],
   "metadata": {
    "id": "YyWBFlV2KIvI"
   },
   "execution_count": 179,
   "outputs": []
  },
  {
   "cell_type": "code",
   "source": [
    "def create_precipitation_dataframe(data_dir):\n",
    "  filenames = []\n",
    "  ids = []\n",
    "  for file in os.listdir(data_dir):\n",
    "      if file == \".DS_Store\":\n",
    "        continue\n",
    "      ids.append(file.split('.')[0])\n",
    "      filenames.append(file)\n",
    "  df = pd.DataFrame()\n",
    "  df['filename'] = filenames\n",
    "  df['id'] = ids\n",
    "  return df.sort_values(by='id')"
   ],
   "metadata": {
    "id": "JyVypYc6_YgG"
   },
   "execution_count": 180,
   "outputs": []
  },
  {
   "cell_type": "code",
   "source": [
    "df = create_precipitation_dataframe(data_dir=precipitation_dir)"
   ],
   "metadata": {
    "id": "JLncFvtMB6TV"
   },
   "execution_count": 181,
   "outputs": []
  },
  {
   "cell_type": "code",
   "source": [
    "train_precipitation_df  = df[df['id'].isin(train_df['id'])]\n",
    "val_precipitation_df    = df[df['id'].isin(val_df['id'])]\n",
    "test_precipitation_df   = df[df['id'].isin(test_df['id'])]"
   ],
   "metadata": {
    "id": "r0uDux0gEVzP"
   },
   "execution_count": 182,
   "outputs": []
  },
  {
   "cell_type": "code",
   "source": [
    "train_data_dir_pre = 'output_precipitation/train/precipitation'\n",
    "test_data_dir_pre  = 'output_precipitation/test/precipitation'\n",
    "val_data_dir_pre   = 'output_precipitation/val/precipitation'"
   ],
   "metadata": {
    "id": "VAyScz2tV37e"
   },
   "execution_count": 216,
   "outputs": []
  },
  {
   "cell_type": "code",
   "source": [
    "if os.path.exists('output_precipitation'):\n",
    "  shutil.rmtree('output_precipitation')\n",
    "#create directories\n",
    "if not os.path.exists(train_data_dir_pre):\n",
    "  os.makedirs(train_data_dir_pre)\n",
    "if not os.path.exists(val_data_dir_pre):\n",
    "  os.makedirs(val_data_dir_pre)\n",
    "if not os.path.exists(test_data_dir_pre):\n",
    "  os.makedirs(test_data_dir_pre)"
   ],
   "metadata": {
    "id": "al82RyNBGZzH"
   },
   "execution_count": 209,
   "outputs": []
  },
  {
   "cell_type": "code",
   "source": [
    "#download the data\n",
    "print(\"train\")\n",
    "for file_name in train_precipitation_df['filename']:\n",
    "  print('\\r', file_name, end='')\n",
    "  source = precipitation_dir + \"/\" + file_name\n",
    "  destination = \"output_precipitation/train/precipitation/\" + file_name\n",
    "  shutil.copy(source, destination)\n",
    "print(\"val\")\n",
    "for file_name in val_precipitation_df['filename']:\n",
    "  print('\\r', file_name, end='')\n",
    "  source = precipitation_dir + \"/\" + file_name\n",
    "  destination = \"output_precipitation/val/precipitation/\" + file_name\n",
    "  shutil.copy(source, destination)\n",
    "print(\"test\")\n",
    "for file_name in test_precipitation_df['filename']:\n",
    "  print('\\r', file_name, end='')\n",
    "  source = precipitation_dir + \"/\" + file_name\n",
    "  destination = \"output_precipitation/test/precipitation/\" + file_name\n",
    "  shutil.copy(source, destination)"
   ],
   "metadata": {
    "colab": {
     "base_uri": "https://localhost:8080/"
    },
    "id": "WAyLCxhzSCZl",
    "outputId": "0998792b-0151-41e0-8ac3-3299738ea721"
   },
   "execution_count": 210,
   "outputs": [
    {
     "output_type": "stream",
     "name": "stdout",
     "text": [
      "train\n",
      " 999.tiffval\n",
      " 998.tifftest\n",
      " 963.tiff"
     ]
    }
   ]
  },
  {
   "cell_type": "code",
   "source": [
    "print(len(os.listdir('output_precipitation/train/precipitation')))\n",
    "print(len(os.listdir('output_precipitation/val/precipitation')))\n",
    "print(len(os.listdir('output_precipitation/test/precipitation')))"
   ],
   "metadata": {
    "colab": {
     "base_uri": "https://localhost:8080/"
    },
    "id": "WTem8V9yR0zV",
    "outputId": "13a4b75a-8631-49f3-8c49-7eb3bb68f551"
   },
   "execution_count": 215,
   "outputs": [
    {
     "output_type": "stream",
     "name": "stdout",
     "text": [
      "3593\n",
      "1026\n",
      "514\n"
     ]
    }
   ]
  },
  {
   "cell_type": "markdown",
   "source": [
    "## Constructing the `ImageDataGenerators`"
   ],
   "metadata": {
    "id": "YQi8u9nHgc6J"
   }
  },
  {
   "cell_type": "code",
   "source": [
    "'''\n",
    "This function construct the generators.\n",
    "'''\n",
    "def construct_generators(train_df, train_dir, val_df, val_dir, test_df, test_dir, target_size, augmentations=dict(), x_col=\"filename\", y_col=\"label\"):\n",
    "  params = dict(x_col=x_col,\n",
    "                y_col=y_col, \n",
    "                has_ext=True,\n",
    "                shuffle=True,\n",
    "                batch_size=BATCH_SIZE, \n",
    "                class_mode=\"other\", \n",
    "                target_size=target_size)\n",
    "\n",
    "  train_generator = ImageDataGenerator(**augmentations)\n",
    "  val_generator   = ImageDataGenerator(**augmentations)\n",
    "  test_generator  = ImageDataGenerator(**augmentations)\n",
    "\n",
    "  train_gen = train_generator.flow_from_dataframe(dataframe=train_df,directory=train_dir,**params)\n",
    "  val_gen   = val_generator.flow_from_dataframe(dataframe=val_df,directory=val_dir,**params)\n",
    "  test_gen  = test_generator.flow_from_dataframe(dataframe=test_df,directory=test_dir,**params)\n",
    "\n",
    "  return train_gen, val_gen, test_gen"
   ],
   "metadata": {
    "id": "5wd_OBYsqbUN"
   },
   "execution_count": 100,
   "outputs": []
  },
  {
   "cell_type": "code",
   "source": [
    "traingen_sat, valgen_sat, testgen_sat = construct_generators(train_df,\n",
    "                                                            train_data_dir,\n",
    "                                                            val_df,\n",
    "                                                            val_data_dir,\n",
    "                                                            test_df,\n",
    "                                                            test_data_dir, \n",
    "                                                            (1024,1024))\n",
    "traingen_lc, valgen_lc, testgen_lc = construct_generators(train_landcover_df,\n",
    "                                                            train_data_dir_landcover,\n",
    "                                                            val_landcover_df,\n",
    "                                                            val_data_dir_landcover,\n",
    "                                                            test_landcover_df,\n",
    "                                                            test_data_dir_landcover, \n",
    "                                                            (8,8))\n",
    "traingen_pre, valgen_pre, testgen_pre = construct_generators(train_precipitation_df, \n",
    "                                                            train_data_dir_pre,\n",
    "                                                            val_precipitation_df,\n",
    "                                                            val_data_dir_pre,\n",
    "                                                            test_precipitation_df,\n",
    "                                                            test_data_dir_pre,\n",
    "                                                            (1,1),\n",
    "                                                            x_col=\"filename\",\n",
    "                                                            y_col=\"id\"\n",
    "                                                            )"
   ],
   "metadata": {
    "colab": {
     "base_uri": "https://localhost:8080/"
    },
    "id": "9edH45zMskCB",
    "outputId": "e129620a-7767-4db3-83cc-dd28fcefea10"
   },
   "execution_count": 245,
   "outputs": [
    {
     "output_type": "stream",
     "name": "stdout",
     "text": [
      "Found 3593 validated image filenames.\n",
      "Found 1026 validated image filenames.\n",
      "Found 514 validated image filenames.\n",
      "Found 3593 validated image filenames.\n",
      "Found 1026 validated image filenames.\n",
      "Found 514 validated image filenames.\n",
      "Found 3593 validated image filenames.\n",
      "Found 1026 validated image filenames.\n",
      "Found 514 validated image filenames.\n"
     ]
    }
   ]
  },
  {
   "cell_type": "code",
   "source": [
    "class JoinedGen(tensorflow.keras.utils.Sequence):\n",
    "    '''\n",
    "    This clas is reponsible for manipulating the outputs of the generators \n",
    "    to have the correct form which our model can take as input. It takes two \n",
    "    ImageDataGenerator instances as input.\n",
    "\n",
    "    Args: \n",
    "        input_sat: An ImageDataGenerator instance for satelitte data\n",
    "        input_lc:  An ImageDataGenerator instance for landcover data\n",
    "        input_pre: An ImageDataGenerator instance for precipitation data \n",
    "    '''\n",
    "    def __init__(self, input_sat, input_lc, input_pre):\n",
    "        self.gen_sat = input_sat\n",
    "        self.gen_lc  = input_lc\n",
    "        self.gen_pre = input_pre\n",
    "\n",
    "        assert len(input_sat) == len(input_lc) == len(input_pre)\n",
    "\n",
    "    def __len__(self):\n",
    "        return len(self.gen_sat)\n",
    "\n",
    "    def __getitem__(self, i):\n",
    "        x1,y1 = self.gen_sat[i]\n",
    "        x2,_ = self.gen_lc[i]\n",
    "        x3,_ = self.gen_pre[i]\n",
    "\n",
    "        return [x1,x2,x3],y1 #as the labels are always the same, we can simply output the first.\n",
    "\n",
    "    def on_epoch_end(self):\n",
    "        self.gen_sat.on_epoch_end()\n",
    "        self.gen_lc.on_epoch_end()\n",
    "        self.gen_pre.on_epoch_end()\n",
    "        #shuffling\n",
    "        self.gen_sat.index_array = self.gen_sat.index_array \n",
    "        self.gen_lc.index_array = self.gen_sat.index_array \n",
    "        self.gen_pre.index_array = self.gen_sat.index_array"
   ],
   "metadata": {
    "id": "qzyMt5wchBpb"
   },
   "execution_count": 246,
   "outputs": []
  },
  {
   "cell_type": "markdown",
   "source": [
    "## Constructing the model"
   ],
   "metadata": {
    "id": "Ois2rJStg1oy"
   }
  },
  {
   "cell_type": "code",
   "source": [
    "'''Toy model'''\n",
    "sat_input = keras.Input(shape=(1024,1024,3))\n",
    "lc_input = keras.Input(shape=(8,8,3))\n",
    "precipitation_input = keras.Input(shape=(1,1,3))\n",
    "\n",
    "x = MaxPooling2D((128,128))(sat_input)\n",
    "x = concatenate([x,lc_input])\n",
    "x = MaxPooling2D((8,8))(x)\n",
    "x = concatenate([x,precipitation_input])\n",
    "x = Flatten()(x)\n",
    "x = Dense(1, activation=\"linear\")(x)\n",
    "new_simple_model = Model(inputs=[sat_input, lc_input, precipitation_input], outputs=x) \n",
    "new_simple_model.compile(optimizer='adam', loss='mse')\n",
    "summary = new_simple_model.summary()"
   ],
   "metadata": {
    "colab": {
     "base_uri": "https://localhost:8080/"
    },
    "id": "l8ToDzX3gzFZ",
    "outputId": "8574bb0e-4e27-4fce-e319-605b0e5fae0b"
   },
   "execution_count": 248,
   "outputs": [
    {
     "output_type": "stream",
     "name": "stdout",
     "text": [
      "Model: \"model_13\"\n",
      "__________________________________________________________________________________________________\n",
      " Layer (type)                   Output Shape         Param #     Connected to                     \n",
      "==================================================================================================\n",
      " input_42 (InputLayer)          [(None, 1024, 1024,  0           []                               \n",
      "                                 3)]                                                              \n",
      "                                                                                                  \n",
      " max_pooling2d_16 (MaxPooling2D  (None, 8, 8, 3)     0           ['input_42[0][0]']               \n",
      " )                                                                                                \n",
      "                                                                                                  \n",
      " input_43 (InputLayer)          [(None, 8, 8, 3)]    0           []                               \n",
      "                                                                                                  \n",
      " concatenate_27 (Concatenate)   (None, 8, 8, 6)      0           ['max_pooling2d_16[0][0]',       \n",
      "                                                                  'input_43[0][0]']               \n",
      "                                                                                                  \n",
      " max_pooling2d_17 (MaxPooling2D  (None, 1, 1, 6)     0           ['concatenate_27[0][0]']         \n",
      " )                                                                                                \n",
      "                                                                                                  \n",
      " input_44 (InputLayer)          [(None, 1, 1, 3)]    0           []                               \n",
      "                                                                                                  \n",
      " concatenate_28 (Concatenate)   (None, 1, 1, 9)      0           ['max_pooling2d_17[0][0]',       \n",
      "                                                                  'input_44[0][0]']               \n",
      "                                                                                                  \n",
      " flatten_13 (Flatten)           (None, 9)            0           ['concatenate_28[0][0]']         \n",
      "                                                                                                  \n",
      " dense_24 (Dense)               (None, 1)            10          ['flatten_13[0][0]']             \n",
      "                                                                                                  \n",
      "==================================================================================================\n",
      "Total params: 10\n",
      "Trainable params: 10\n",
      "Non-trainable params: 0\n",
      "__________________________________________________________________________________________________\n"
     ]
    }
   ]
  },
  {
   "cell_type": "code",
   "source": [
    "plot_model(new_simple_model, show_shapes=True, show_layer_names=True, to_file='model.png')"
   ],
   "metadata": {
    "colab": {
     "base_uri": "https://localhost:8080/",
     "height": 754
    },
    "id": "UVn33d_l1LZi",
    "outputId": "4c5e4d8d-6f07-4e75-b8ac-640341b423fe"
   },
   "execution_count": 249,
   "outputs": [
    {
     "output_type": "execute_result",
     "data": {
      "image/png": "[encoded data removed]",
      "text/plain": [
       "<IPython.core.display.Image object>"
      ]
     },
     "metadata": {},
     "execution_count": 249
    }
   ]
  },
  {
   "cell_type": "code",
   "source": [
    "my_gen = JoinedGen(traingen_sat, traingen_lc, traingen_pre)\n",
    "vgg_history = new_simple_model.fit(my_gen,\n",
    "                            batch_size=BATCH_SIZE,\n",
    "                            epochs=1,#EPOCHS,\n",
    "                            steps_per_epoch=traingen_sat.samples//BATCH_SIZE,\n",
    "                            #validation_data=val_generator,\n",
    "                            #,\n",
    "                            #validation_steps=n_val_steps,\n",
    "                            #callbacks=[tl_checkpoint_1, early_stop, plot_loss_1],\n",
    "                            verbose=1)"
   ],
   "metadata": {
    "colab": {
     "base_uri": "https://localhost:8080/"
    },
    "id": "emUjER-Pg_FM",
    "outputId": "fa4a18db-79af-419e-fa14-010555763ba0"
   },
   "execution_count": 250,
   "outputs": [
    {
     "output_type": "stream",
     "name": "stdout",
     "text": [
      "112/112 [==============================] - 196s 2s/step - loss: 9580.7373\n"
     ]
    }
   ]
  }
 ]
}